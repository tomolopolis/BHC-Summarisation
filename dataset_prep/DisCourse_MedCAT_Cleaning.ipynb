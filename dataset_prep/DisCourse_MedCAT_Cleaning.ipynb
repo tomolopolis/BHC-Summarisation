{
 "cells": [
  {
   "cell_type": "code",
   "execution_count": 1,
   "id": "2efdbb78",
   "metadata": {},
   "outputs": [
    {
     "name": "stderr",
     "output_type": "stream",
     "text": [
      "/home/k1897038/anaconda3/envs/medcat/lib/python3.8/site-packages/medcat/cat.py:15: TqdmExperimentalWarning: Using `tqdm.autonotebook.tqdm` in notebook mode. Use `tqdm.tqdm` instead to force console mode (e.g. in jupyter console)\n",
      "  from tqdm.autonotebook import tqdm\n",
      "/home/k1897038/anaconda3/envs/medcat/lib/python3.8/site-packages/torch/cuda/__init__.py:80: UserWarning: CUDA initialization: Unexpected error from cudaGetDeviceCount(). Did you run some cuda functions before calling NumCudaDevices() that might have already set an error? Error 804: forward compatibility was attempted on non supported HW (Triggered internally at  ../c10/cuda/CUDAFunctions.cpp:112.)\n",
      "  return torch._C._cuda_getDeviceCount() > 0\n"
     ]
    }
   ],
   "source": [
    "from medcat.cat import CAT\n",
    "import json"
   ]
  },
  {
   "cell_type": "code",
   "execution_count": 2,
   "metadata": {},
   "outputs": [
    {
     "name": "stdout",
     "output_type": "stream",
     "text": [
      "Found an existing unziped model pack at: /data/users/k1897038/mc_modelpack_phase2_snomed_190k_october_2021, the provided zip will not be touched.\n"
     ]
    }
   ],
   "source": [
    "cat = CAT.load_model_pack('/data/users/k1897038/mc_modelpack_phase2_snomed_190k_october_2021.zip')"
   ]
  },
  {
   "cell_type": "code",
   "execution_count": null,
   "metadata": {},
   "outputs": [],
   "source": [
    "list(cat.cdb.cui2type_ids.values())[0]"
   ]
  },
  {
   "cell_type": "code",
   "execution_count": 82,
   "metadata": {},
   "outputs": [],
   "source": [
    "# problem types i.e.  disorders, findings \n",
    "problem_types = ['T-11', 'T-18', 'T-29', 'T-35', 'T-38']\n",
    "# # descriptions of problem, i.e. locations, temperature, respiratory rate.\n",
    "# descriptors = ['T-6']\n",
    "# interventions, i.e. investigative scans, procedures, drugs \n",
    "interventions = ['T-9', 'T-26', 'T-27', 'T-39', 'T-40', 'T-55']"
   ]
  },
  {
   "cell_type": "code",
   "execution_count": 83,
   "metadata": {},
   "outputs": [
    {
     "name": "stdout",
     "output_type": "stream",
     "text": [
      "T-11\tdisorder\t77284\n",
      "T-18\tfinding\t44201\n",
      "T-29\tmorphologic abnormality\t4897\n",
      "T-35\torganism\t34778\n",
      "T-38\tphysical object\t198890\n"
     ]
    }
   ],
   "source": [
    "for p in problem_types:\n",
    "    print(f'{p}\\t{cat.cdb.addl_info[\"type_id2name\"][p]}\\t{len(cat.cdb.addl_info[\"type_id2cuis\"][p])}')    "
   ]
  },
  {
   "cell_type": "code",
   "execution_count": 84,
   "metadata": {},
   "outputs": [
    {
     "name": "stdout",
     "output_type": "stream",
     "text": [
      "T-9\tclinical drug\t6247\n",
      "T-26\tmedicinal product\t7715\n",
      "T-27\tmedicinal product form\t6203\n",
      "T-39\tprocedure\t64291\n",
      "T-40\tproduct\t173894\n",
      "T-55\tsubstance\t27626\n"
     ]
    }
   ],
   "source": [
    "for i in interventions:\n",
    "    print(f'{i}\\t{cat.cdb.addl_info[\"type_id2name\"][i]}\\t{len(cat.cdb.addl_info[\"type_id2cuis\"][i])}')"
   ]
  },
  {
   "cell_type": "code",
   "execution_count": 8,
   "metadata": {},
   "outputs": [],
   "source": [
    "import json\n",
    "import pandas as pd\n",
    "from tqdm import tqdm\n",
    "import numpy as np\n",
    "from transformers import AutoTokenizer, AutoModelForCausalLM, pipeline\n",
    "from datasets import load_dataset, load_metric"
   ]
  },
  {
   "cell_type": "code",
   "execution_count": 9,
   "metadata": {},
   "outputs": [],
   "source": [
    "fl = json.loads(open('../../hadms_to_dis_course_processed.jsonl').readline())"
   ]
  },
  {
   "cell_type": "code",
   "execution_count": 10,
   "metadata": {},
   "outputs": [],
   "source": [
    "fl = fl['ents']['entities']"
   ]
  },
  {
   "cell_type": "raw",
   "metadata": {},
   "source": [
    "'Subject' == 'Patient'\n",
    "'Prescence' == 'True'\n",
    "'Time' == 'Recent'"
   ]
  },
  {
   "cell_type": "code",
   "execution_count": 29,
   "metadata": {},
   "outputs": [
    {
     "data": {
      "text/plain": [
       "dict_values([{'value': 'Patient', 'confidence': 1.0, 'name': 'Subject'}, {'value': 'True', 'confidence': 0.9999957084655762, 'name': 'Presence'}, {'value': 'Recent', 'confidence': 0.9999966025352478, 'name': 'Time'}])"
      ]
     },
     "execution_count": 29,
     "metadata": {},
     "output_type": "execute_result"
    }
   ],
   "source": [
    "next(iter(fl['ents']['entities'].values()))['meta_anns'].values()"
   ]
  },
  {
   "cell_type": "code",
   "execution_count": null,
   "metadata": {},
   "outputs": [],
   "source": [
    "anns = next(iter(fl.values()))"
   ]
  },
  {
   "cell_type": "code",
   "execution_count": 85,
   "metadata": {},
   "outputs": [],
   "source": [
    "all_types = problem_types + interventions"
   ]
  },
  {
   "cell_type": "code",
   "execution_count": null,
   "metadata": {},
   "outputs": [],
   "source": [
    "json.loads(open('../../hadms_to_dis_course_processed.jsonl').readline())['text']\n",
    "# ../../hadms_to_hosp_course_processed.jsonl"
   ]
  },
  {
   "cell_type": "code",
   "execution_count": 8,
   "metadata": {},
   "outputs": [],
   "source": [
    "def process_cat_out(file_path: str):\n",
    "    ents = {'hadm_id': [], 'ents': [], 'texts': []}\n",
    "    for line in tqdm(open(file_path).readlines()):\n",
    "        line = json.loads(line)\n",
    "        ents['hadm_id'].append(line['hadm_id'])\n",
    "        ents['texts'].append(line['text'])\n",
    "        found_ents = []\n",
    "        for e in line['ents']['entities'].values():\n",
    "            anns = e['meta_anns']\n",
    "            if anns['Subject']['value'] == 'Patient' and anns['Presence']['value'] == 'True' and anns['Time']['value'] == 'Recent':\n",
    "                if any(t in all_types for t in e['type_ids']):\n",
    "                    found_ents.append({'pretty_name': e['pretty_name'], 'cui': e['cui'], \n",
    "                                       'source_value': e['source_value'], 'types': e['type_ids']})\n",
    "        ents['ents'].append(found_ents)\n",
    "    return ents"
   ]
  },
  {
   "cell_type": "code",
   "execution_count": 9,
   "metadata": {},
   "outputs": [
    {
     "name": "stderr",
     "output_type": "stream",
     "text": [
      "100%|█████████████████████████████████████████████████████████████████████████████████████████████████████████████████████| 47900/47900 [00:17<00:00, 2701.81it/s]\n"
     ]
    }
   ],
   "source": [
    "dis_course_ents = pd.DataFrame(process_cat_out('../../hadms_to_dis_course_processed.jsonl'))"
   ]
  },
  {
   "cell_type": "code",
   "execution_count": 10,
   "metadata": {},
   "outputs": [],
   "source": [
    "dis_course_ents = pd.DataFrame(dis_course_ents)"
   ]
  },
  {
   "cell_type": "code",
   "execution_count": 11,
   "metadata": {},
   "outputs": [
    {
     "data": {
      "text/plain": [
       "19.764363256784968"
      ]
     },
     "execution_count": 11,
     "metadata": {},
     "output_type": "execute_result"
    }
   ],
   "source": [
    "np.average(dis_course_ents.ents.apply(len))"
   ]
  },
  {
   "cell_type": "code",
   "execution_count": 12,
   "metadata": {},
   "outputs": [
    {
     "data": {
      "text/plain": [
       "14.577745302713987"
      ]
     },
     "execution_count": 12,
     "metadata": {},
     "output_type": "execute_result"
    }
   ],
   "source": [
    "uniq_dis_avg_terms = dis_course_ents['ents'].apply(lambda entities: len(set(e['cui'] for e in entities)))\n",
    "np.average(uniq_dis_avg_terms)"
   ]
  },
  {
   "cell_type": "code",
   "execution_count": 13,
   "metadata": {},
   "outputs": [
    {
     "name": "stderr",
     "output_type": "stream",
     "text": [
      "100%|██████████████████████████████████████████████████████████████████████████████████████████████████████████████████████| 47900/47900 [03:32<00:00, 225.09it/s]\n"
     ]
    }
   ],
   "source": [
    "notes_ents = process_cat_out('../../hadms_to_hosp_course_processed.jsonl')"
   ]
  },
  {
   "cell_type": "code",
   "execution_count": 14,
   "metadata": {},
   "outputs": [],
   "source": [
    "notes_ents = pd.DataFrame(notes_ents)"
   ]
  },
  {
   "cell_type": "code",
   "execution_count": 15,
   "metadata": {},
   "outputs": [
    {
     "data": {
      "text/plain": [
       "156.17847599164926"
      ]
     },
     "execution_count": 15,
     "metadata": {},
     "output_type": "execute_result"
    }
   ],
   "source": [
    "np.average(notes_ents['ents'].apply(len))"
   ]
  },
  {
   "cell_type": "code",
   "execution_count": 16,
   "metadata": {},
   "outputs": [
    {
     "data": {
      "text/plain": [
       "56.62229645093946"
      ]
     },
     "execution_count": 16,
     "metadata": {},
     "output_type": "execute_result"
    }
   ],
   "source": [
    "uniq_avg_terms = notes_ents['ents'].apply(lambda entities: len(set(e['cui'] for e in entities)))\n",
    "np.average(uniq_avg_terms)"
   ]
  },
  {
   "cell_type": "code",
   "execution_count": null,
   "metadata": {},
   "outputs": [],
   "source": []
  },
  {
   "cell_type": "code",
   "execution_count": 10,
   "metadata": {},
   "outputs": [],
   "source": [
    "model = 't5-small'"
   ]
  },
  {
   "cell_type": "code",
   "execution_count": 11,
   "metadata": {},
   "outputs": [],
   "source": [
    "tokenizer = AutoTokenizer.from_pretrained(model, use_fast=True)"
   ]
  },
  {
   "cell_type": "code",
   "execution_count": null,
   "metadata": {},
   "outputs": [],
   "source": [
    "input_ids_hosp_notes_lens = [len(i) for i in input_ids_hosp_notes]\n",
    "input_ids_dis_course_lens = [len(i) for i in input_ids_dis_course]"
   ]
  },
  {
   "cell_type": "code",
   "execution_count": 103,
   "metadata": {},
   "outputs": [],
   "source": [
    "np.average([h_n / n for h_n, n in zip(input_ids_hosp_notes_lens, \n",
    "                                      notes_ents['ents'].apply(len))])\n",
    "\n",
    "np.average([h_n / n for h_n, n in zip(input_ids_hosp_notes_lens, uniq_avg_terms)])"
   ]
  },
  {
   "cell_type": "code",
   "execution_count": null,
   "metadata": {},
   "outputs": [],
   "source": [
    "dis_course_ents"
   ]
  },
  {
   "cell_type": "code",
   "execution_count": 105,
   "metadata": {},
   "outputs": [
    {
     "data": {
      "text/plain": [
       "52.20862549510779"
      ]
     },
     "execution_count": 105,
     "metadata": {},
     "output_type": "execute_result"
    }
   ],
   "source": [
    "np.average([h_n / n for h_n, n in zip(input_ids_dis_course_lens, \n",
    "                                      dis_course_ents['ents'].apply(len)) if n > 0])"
   ]
  },
  {
   "cell_type": "code",
   "execution_count": 115,
   "metadata": {},
   "outputs": [
    {
     "data": {
      "text/plain": [
       "63.10797077817343"
      ]
     },
     "execution_count": 115,
     "metadata": {},
     "output_type": "execute_result"
    }
   ],
   "source": [
    "np.average([h_n / n for h_n, n in zip(input_ids_dis_course_lens, \n",
    "                                      uniq_dis_avg_terms) if n > 0])"
   ]
  }
 ],
 "metadata": {
  "kernelspec": {
   "display_name": "Python [conda env:cattrainer]",
   "language": "python",
   "name": "conda-env-cattrainer-py"
  },
  "language_info": {
   "codemirror_mode": {
    "name": "ipython",
    "version": 3
   },
   "file_extension": ".py",
   "mimetype": "text/x-python",
   "name": "python",
   "nbconvert_exporter": "python",
   "pygments_lexer": "ipython3",
   "version": "3.8.1"
  }
 },
 "nbformat": 4,
 "nbformat_minor": 5
}
