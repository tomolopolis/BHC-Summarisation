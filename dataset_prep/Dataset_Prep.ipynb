{
 "cells": [
  {
   "cell_type": "code",
   "execution_count": 1,
   "metadata": {},
   "outputs": [],
   "source": [
    "%load_ext autoreload\n",
    "\n",
    "%autoreload 2"
   ]
  },
  {
   "cell_type": "code",
   "execution_count": 2,
   "metadata": {},
   "outputs": [],
   "source": [
    "import pandas as pd\n",
    "import numpy as np\n",
    "import os\n",
    "from sentence_transformers import SentenceTransformer\n",
    "import spacy\n",
    "from tqdm import tqdm\n",
    "from collections import defaultdict\n",
    "from datasets import load_metric, load_dataset, load_from_disk\n",
    "from differ import diff_ratio\n",
    "import re\n",
    "import seaborn as sns\n",
    "import json\n",
    "from tqdm import tqdm"
   ]
  },
  {
   "cell_type": "code",
   "execution_count": 3,
   "metadata": {},
   "outputs": [],
   "source": [
    "os.environ['HF_DATASETS_CACHE'] = '/mnt/cerberus-gpu-data/data/users/k1897038/mimic_summarisation/hf_cache_dir/datasets'\n",
    "os.environ['TRANSFORMERS_CACHE'] = '/mnt/cerberus-gpu-data/data/users/k1897038/mimic_summarisation/hf_cache_dir/transformers'"
   ]
  },
  {
   "cell_type": "code",
   "execution_count": 97,
   "metadata": {},
   "outputs": [],
   "source": [
    "# ds_path = '../../mimic_summ_data/mimic_3_val_filt.json'\n",
    "ds_path = '../../mimic_summ_data/mimic_3_test.json'"
   ]
  },
  {
   "cell_type": "code",
   "execution_count": 5,
   "metadata": {},
   "outputs": [],
   "source": [
    "ds_path = '../../mimic_summ_data/mimic_3_train.json'"
   ]
  },
  {
   "cell_type": "code",
   "execution_count": 6,
   "metadata": {},
   "outputs": [
    {
     "name": "stderr",
     "output_type": "stream",
     "text": [
      "Using custom data configuration default-79c5427ab5e0eba1\n"
     ]
    },
    {
     "name": "stdout",
     "output_type": "stream",
     "text": [
      "Downloading and preparing dataset json/default to /home/ubuntu/.cache/huggingface/datasets/json/default-79c5427ab5e0eba1/0.0.0/a3e658c4731e59120d44081ac10bf85dc7e1388126b92338344ce9661907f253...\n"
     ]
    },
    {
     "data": {
      "application/vnd.jupyter.widget-view+json": {
       "model_id": "1e2ac7fc7fae432eb98bc7ed8a5742b4",
       "version_major": 2,
       "version_minor": 0
      },
      "text/plain": [
       "Downloading data files:   0%|          | 0/1 [00:00<?, ?it/s]"
      ]
     },
     "metadata": {},
     "output_type": "display_data"
    },
    {
     "data": {
      "application/vnd.jupyter.widget-view+json": {
       "model_id": "f92b6273ae974458aed9d81fd0068c60",
       "version_major": 2,
       "version_minor": 0
      },
      "text/plain": [
       "Extracting data files:   0%|          | 0/1 [00:00<?, ?it/s]"
      ]
     },
     "metadata": {},
     "output_type": "display_data"
    },
    {
     "data": {
      "application/vnd.jupyter.widget-view+json": {
       "model_id": "e5165c81652544f3b9fa6e4ce51c1258",
       "version_major": 2,
       "version_minor": 0
      },
      "text/plain": [
       "0 tables [00:00, ? tables/s]"
      ]
     },
     "metadata": {},
     "output_type": "display_data"
    },
    {
     "name": "stdout",
     "output_type": "stream",
     "text": [
      "Dataset json downloaded and prepared to /home/ubuntu/.cache/huggingface/datasets/json/default-79c5427ab5e0eba1/0.0.0/a3e658c4731e59120d44081ac10bf85dc7e1388126b92338344ce9661907f253. Subsequent calls will reuse this data.\n"
     ]
    },
    {
     "data": {
      "application/vnd.jupyter.widget-view+json": {
       "model_id": "130ed229a8c34a02a602c926a36b37a6",
       "version_major": 2,
       "version_minor": 0
      },
      "text/plain": [
       "  0%|          | 0/1 [00:00<?, ?it/s]"
      ]
     },
     "metadata": {},
     "output_type": "display_data"
    }
   ],
   "source": [
    "ds = load_dataset('json', data_files=ds_path)['train']"
   ]
  },
  {
   "cell_type": "code",
   "execution_count": 7,
   "metadata": {},
   "outputs": [],
   "source": [
    "pat = re.compile(r'(?:brief)?\\n?\\s?hospital course:?|SUMMARY OF HOSPITAL COURSE BY SYSTEMS:?', re.IGNORECASE)\n",
    "def clean(s: str):\n",
    "    s = s.replace('\\n\\n' ,'\\n')\\\n",
    "         .replace(r'\\s{2+}', ' ')\\\n",
    "         .replace(r'\\t', ' ')\n",
    "    return pat.sub('', s)"
   ]
  },
  {
   "cell_type": "code",
   "execution_count": 8,
   "metadata": {},
   "outputs": [
    {
     "name": "stdout",
     "output_type": "stream",
     "text": [
      "          "
     ]
    },
    {
     "data": {
      "application/vnd.jupyter.widget-view+json": {
       "model_id": "aeb5a539c7f24ef19f0866881ef4896b",
       "version_major": 2,
       "version_minor": 0
      },
      "text/plain": [
       "#1:   0%|          | 0/7671 [00:00<?, ?ex/s]"
      ]
     },
     "metadata": {},
     "output_type": "display_data"
    },
    {
     "data": {
      "application/vnd.jupyter.widget-view+json": {
       "model_id": "57e7eacc22c743899dd6756a64298a5b",
       "version_major": 2,
       "version_minor": 0
      },
      "text/plain": [
       "#2:   0%|          | 0/7671 [00:00<?, ?ex/s]"
      ]
     },
     "metadata": {},
     "output_type": "display_data"
    },
    {
     "data": {
      "application/vnd.jupyter.widget-view+json": {
       "model_id": "c6253dfb598b4288a7a2a3d36f88292f",
       "version_major": 2,
       "version_minor": 0
      },
      "text/plain": [
       "#0:   0%|          | 0/7672 [00:00<?, ?ex/s]"
      ]
     },
     "metadata": {},
     "output_type": "display_data"
    },
    {
     "data": {
      "application/vnd.jupyter.widget-view+json": {
       "model_id": "a138bd7089d3487ea589111cc376e014",
       "version_major": 2,
       "version_minor": 0
      },
      "text/plain": [
       "#4:   0%|          | 0/7671 [00:00<?, ?ex/s]"
      ]
     },
     "metadata": {},
     "output_type": "display_data"
    },
    {
     "data": {
      "application/vnd.jupyter.widget-view+json": {
       "model_id": "56c7546540364bbdaa1275eeb7f4f327",
       "version_major": 2,
       "version_minor": 0
      },
      "text/plain": [
       "#3:   0%|          | 0/7671 [00:00<?, ?ex/s]"
      ]
     },
     "metadata": {},
     "output_type": "display_data"
    }
   ],
   "source": [
    "ds = ds.map(lambda d: {'clean_sum': clean(d['summary'])}, num_proc=5)"
   ]
  },
  {
   "cell_type": "code",
   "execution_count": null,
   "metadata": {},
   "outputs": [
    {
     "name": "stdout",
     "output_type": "stream",
     "text": [
      "                    "
     ]
    },
    {
     "data": {
      "application/vnd.jupyter.widget-view+json": {
       "model_id": "ac72426c32e04b4ba4f44a141ab5481e",
       "version_major": 2,
       "version_minor": 0
      },
      "text/plain": [
       "#0:   0%|          | 0/3836 [00:00<?, ?ex/s]"
      ]
     },
     "metadata": {},
     "output_type": "display_data"
    },
    {
     "data": {
      "application/vnd.jupyter.widget-view+json": {
       "model_id": "713c224a999f4f3c8a1dd995896ef255",
       "version_major": 2,
       "version_minor": 0
      },
      "text/plain": [
       "#1:   0%|          | 0/3836 [00:00<?, ?ex/s]"
      ]
     },
     "metadata": {},
     "output_type": "display_data"
    },
    {
     "data": {
      "application/vnd.jupyter.widget-view+json": {
       "model_id": "6d4718c9406f4680aee58a394d4e08e8",
       "version_major": 2,
       "version_minor": 0
      },
      "text/plain": [
       "#2:   0%|          | 0/3836 [00:00<?, ?ex/s]"
      ]
     },
     "metadata": {},
     "output_type": "display_data"
    },
    {
     "data": {
      "application/vnd.jupyter.widget-view+json": {
       "model_id": "121f5b3df58f47a09546946404c06216",
       "version_major": 2,
       "version_minor": 0
      },
      "text/plain": [
       "#3:   0%|          | 0/3836 [00:00<?, ?ex/s]"
      ]
     },
     "metadata": {},
     "output_type": "display_data"
    },
    {
     "data": {
      "application/vnd.jupyter.widget-view+json": {
       "model_id": "07e7d2880b9847199a65fdc3c00356c0",
       "version_major": 2,
       "version_minor": 0
      },
      "text/plain": [
       "#6:   0%|          | 0/3835 [00:00<?, ?ex/s]"
      ]
     },
     "metadata": {},
     "output_type": "display_data"
    },
    {
     "data": {
      "application/vnd.jupyter.widget-view+json": {
       "model_id": "b0fb6b9dff194fc8a49633b26dfe56c4",
       "version_major": 2,
       "version_minor": 0
      },
      "text/plain": [
       "#4:   0%|          | 0/3836 [00:00<?, ?ex/s]"
      ]
     },
     "metadata": {},
     "output_type": "display_data"
    },
    {
     "data": {
      "application/vnd.jupyter.widget-view+json": {
       "model_id": "71c320ea3f0f480697f2415b7878ecf0",
       "version_major": 2,
       "version_minor": 0
      },
      "text/plain": [
       "#5:   0%|          | 0/3836 [00:00<?, ?ex/s]"
      ]
     },
     "metadata": {},
     "output_type": "display_data"
    },
    {
     "data": {
      "application/vnd.jupyter.widget-view+json": {
       "model_id": "0808d81a9bdb4bcdac0267bd5a564828",
       "version_major": 2,
       "version_minor": 0
      },
      "text/plain": [
       "#8:   0%|          | 0/3835 [00:00<?, ?ex/s]"
      ]
     },
     "metadata": {},
     "output_type": "display_data"
    },
    {
     "data": {
      "application/vnd.jupyter.widget-view+json": {
       "model_id": "b65b69b94100496898acc1d428f2439f",
       "version_major": 2,
       "version_minor": 0
      },
      "text/plain": [
       "#7:   0%|          | 0/3835 [00:00<?, ?ex/s]"
      ]
     },
     "metadata": {},
     "output_type": "display_data"
    },
    {
     "data": {
      "application/vnd.jupyter.widget-view+json": {
       "model_id": "d0a8001c5aa445ad9855740a40ed3d6a",
       "version_major": 2,
       "version_minor": 0
      },
      "text/plain": [
       "#9:   0%|          | 0/3835 [00:00<?, ?ex/s]"
      ]
     },
     "metadata": {},
     "output_type": "display_data"
    }
   ],
   "source": [
    "ds = ds.map(lambda d: {'clean_text': clean(d['text'])}, num_proc=10)"
   ]
  },
  {
   "cell_type": "code",
   "execution_count": null,
   "metadata": {},
   "outputs": [],
   "source": [
    "nlp = spacy.load('en_core_web_md')\n",
    "nlp.add_pipe('sentencizer')"
   ]
  },
  {
   "cell_type": "code",
   "execution_count": null,
   "metadata": {},
   "outputs": [],
   "source": [
    "tok = nlp.tokenizer\n",
    "sentensizer = nlp.pipeline[-1][-1]\n",
    "def find_sents(text):\n",
    "    return [s.text for s in sentensizer(tok(text)).sents if len(s) > 3]"
   ]
  },
  {
   "cell_type": "code",
   "execution_count": null,
   "metadata": {},
   "outputs": [],
   "source": [
    "ds = ds.map(lambda d: {'summ_sents': find_sents(d['clean_sum'])}, num_proc=10)"
   ]
  },
  {
   "cell_type": "code",
   "execution_count": null,
   "metadata": {},
   "outputs": [],
   "source": [
    "ds = ds.map(lambda d: {'text_sents': find_sents(d['clean_text'])},  num_proc=10)"
   ]
  },
  {
   "cell_type": "code",
   "execution_count": null,
   "metadata": {},
   "outputs": [],
   "source": [
    "# train 6 seperate LSTM models for prediciting 'top-line' extractive summaries.\n",
    "sent_limits = [1,2,3,5,10,15]"
   ]
  },
  {
   "cell_type": "code",
   "execution_count": 74,
   "metadata": {},
   "outputs": [
    {
     "data": {
      "text/plain": [
       "Dataset({\n",
       "    features: ['hadm_id', 'summary', 'text', 'clean_sum', 'clean_text', 'summ_sents', 'text_sents', 'summ_lim_1'],\n",
       "    num_rows: 38356\n",
       "})"
      ]
     },
     "execution_count": 74,
     "metadata": {},
     "output_type": "execute_result"
    }
   ],
   "source": [
    "ds"
   ]
  },
  {
   "cell_type": "code",
   "execution_count": null,
   "metadata": {},
   "outputs": [],
   "source": [
    "sent_limd_sums = defaultdict(list)\n",
    "for lim in tqdm(sent_limits):\n",
    "    ds = ds.map(lambda d: {f'summ_lim_{lim}': d['summ_sents'][:lim]}, num_proc=10)"
   ]
  },
  {
   "cell_type": "code",
   "execution_count": null,
   "metadata": {},
   "outputs": [],
   "source": [
    "def _parse_score(lvl, scores):\n",
    "    return (lvl, scores[lvl].mid.precision, scores[lvl].mid.recall, scores[lvl].mid.fmeasure)"
   ]
  },
  {
   "cell_type": "code",
   "execution_count": null,
   "metadata": {},
   "outputs": [],
   "source": [
    "input_lens = ds.map(lambda d: {'lens': len(d['text_sents'])}, num_proc=10)"
   ]
  },
  {
   "cell_type": "code",
   "execution_count": null,
   "metadata": {},
   "outputs": [],
   "source": [
    "sns.histplot(input_lens['lens'], stat='count', bins=50)"
   ]
  },
  {
   "cell_type": "code",
   "execution_count": null,
   "metadata": {},
   "outputs": [],
   "source": [
    "len([i for i in input_lens['lens'] if i < 1000]) / len(ds)"
   ]
  },
  {
   "cell_type": "code",
   "execution_count": null,
   "metadata": {},
   "outputs": [],
   "source": [
    "# take the top 500 of start, end of sentences. For 93% of cases this is the full amount..."
   ]
  },
  {
   "cell_type": "code",
   "execution_count": 28,
   "metadata": {},
   "outputs": [],
   "source": [
    "def top_tail_texts(d, col_name):\n",
    "    sents = d[col_name]\n",
    "    if len(sents) > 1000:\n",
    "        first = d[col_name][:500]\n",
    "        last = d[col_name][-500:]\n",
    "        sents = first + last\n",
    "    return sents"
   ]
  },
  {
   "cell_type": "code",
   "execution_count": 29,
   "metadata": {},
   "outputs": [
    {
     "name": "stdout",
     "output_type": "stream",
     "text": [
      "              "
     ]
    },
    {
     "data": {
      "application/vnd.jupyter.widget-view+json": {
       "model_id": "f8c92e1753a94dbfb752d900fe1a82d4",
       "version_major": 2,
       "version_minor": 0
      },
      "text/plain": [
       "#0:   0%|          | 0/3836 [00:00<?, ?ex/s]"
      ]
     },
     "metadata": {},
     "output_type": "display_data"
    },
    {
     "data": {
      "application/vnd.jupyter.widget-view+json": {
       "model_id": "ae0cd6e68c394066bcb60a1bb7b362d7",
       "version_major": 2,
       "version_minor": 0
      },
      "text/plain": [
       "#1:   0%|          | 0/3836 [00:00<?, ?ex/s]"
      ]
     },
     "metadata": {},
     "output_type": "display_data"
    },
    {
     "name": "stdout",
     "output_type": "stream",
     "text": [
      "  "
     ]
    },
    {
     "data": {
      "application/vnd.jupyter.widget-view+json": {
       "model_id": "e43ed54678ac4c56b8b234bf67a10316",
       "version_major": 2,
       "version_minor": 0
      },
      "text/plain": [
       "#2:   0%|          | 0/3836 [00:00<?, ?ex/s]"
      ]
     },
     "metadata": {},
     "output_type": "display_data"
    },
    {
     "name": "stdout",
     "output_type": "stream",
     "text": [
      "   "
     ]
    },
    {
     "data": {
      "application/vnd.jupyter.widget-view+json": {
       "model_id": "2d2aa0ba409944b1ba41c45d25040db6",
       "version_major": 2,
       "version_minor": 0
      },
      "text/plain": [
       "#3:   0%|          | 0/3836 [00:00<?, ?ex/s]"
      ]
     },
     "metadata": {},
     "output_type": "display_data"
    },
    {
     "name": "stdout",
     "output_type": "stream",
     "text": [
      " "
     ]
    },
    {
     "data": {
      "application/vnd.jupyter.widget-view+json": {
       "model_id": "f267303d2278484f929d2a1133cab0e5",
       "version_major": 2,
       "version_minor": 0
      },
      "text/plain": [
       "#6:   0%|          | 0/3835 [00:00<?, ?ex/s]"
      ]
     },
     "metadata": {},
     "output_type": "display_data"
    },
    {
     "data": {
      "application/vnd.jupyter.widget-view+json": {
       "model_id": "beb8e63e5f2546d8aebf017048884733",
       "version_major": 2,
       "version_minor": 0
      },
      "text/plain": [
       "#5:   0%|          | 0/3836 [00:00<?, ?ex/s]"
      ]
     },
     "metadata": {},
     "output_type": "display_data"
    },
    {
     "data": {
      "application/vnd.jupyter.widget-view+json": {
       "model_id": "f34f6cbfef834a7bbc5725a4462f68d7",
       "version_major": 2,
       "version_minor": 0
      },
      "text/plain": [
       "#4:   0%|          | 0/3836 [00:00<?, ?ex/s]"
      ]
     },
     "metadata": {},
     "output_type": "display_data"
    },
    {
     "data": {
      "application/vnd.jupyter.widget-view+json": {
       "model_id": "015995a8882941f1a215eb2a29a76dfd",
       "version_major": 2,
       "version_minor": 0
      },
      "text/plain": [
       "#9:   0%|          | 0/3835 [00:00<?, ?ex/s]"
      ]
     },
     "metadata": {},
     "output_type": "display_data"
    },
    {
     "data": {
      "application/vnd.jupyter.widget-view+json": {
       "model_id": "98de7549a75b4129b1ad6afe1513eb8b",
       "version_major": 2,
       "version_minor": 0
      },
      "text/plain": [
       "#7:   0%|          | 0/3835 [00:00<?, ?ex/s]"
      ]
     },
     "metadata": {},
     "output_type": "display_data"
    },
    {
     "data": {
      "application/vnd.jupyter.widget-view+json": {
       "model_id": "fb64167e31f54ff887645931d3d54206",
       "version_major": 2,
       "version_minor": 0
      },
      "text/plain": [
       "#8:   0%|          | 0/3835 [00:00<?, ?ex/s]"
      ]
     },
     "metadata": {},
     "output_type": "display_data"
    }
   ],
   "source": [
    "ds = ds.map(lambda d: {'text_sents_limd': top_tail_texts(d, 'text_sents')}, num_proc=10)"
   ]
  },
  {
   "cell_type": "code",
   "execution_count": null,
   "metadata": {},
   "outputs": [],
   "source": [
    "first_sents = ds['text_sents_limd'][1]"
   ]
  },
  {
   "cell_type": "code",
   "execution_count": 30,
   "metadata": {},
   "outputs": [
    {
     "data": {
      "text/plain": [
       "Dataset({\n",
       "    features: ['hadm_id', 'summary', 'text', 'clean_sum', 'clean_text', 'summ_sents', 'text_sents', 'summ_lim_1', 'summ_lim_2', 'summ_lim_3', 'summ_lim_5', 'summ_lim_10', 'summ_lim_15', 'text_sents_limd'],\n",
       "    num_rows: 38356\n",
       "})"
      ]
     },
     "execution_count": 30,
     "metadata": {},
     "output_type": "execute_result"
    }
   ],
   "source": [
    "ds"
   ]
  },
  {
   "cell_type": "code",
   "execution_count": 31,
   "metadata": {},
   "outputs": [
    {
     "data": {
      "text/plain": [
       "10"
      ]
     },
     "execution_count": 31,
     "metadata": {},
     "output_type": "execute_result"
    }
   ],
   "source": [
    "ds.cleanup_cache_files()"
   ]
  },
  {
   "cell_type": "code",
   "execution_count": 32,
   "metadata": {},
   "outputs": [],
   "source": [
    "ds.save_to_disk('mimic3_train_dataset_pre_processed')"
   ]
  },
  {
   "cell_type": "code",
   "execution_count": 36,
   "metadata": {},
   "outputs": [
    {
     "data": {
      "text/plain": [
       "Dataset({\n",
       "    features: ['hadm_id', 'summary', 'text', 'clean_sum', 'clean_text', 'summ_sents', 'text_sents', 'summ_lim_1', 'summ_lim_2', 'summ_lim_3', 'summ_lim_5', 'summ_lim_10', 'summ_lim_15', 'text_sents_limd'],\n",
       "    num_rows: 38356\n",
       "})"
      ]
     },
     "execution_count": 36,
     "metadata": {},
     "output_type": "execute_result"
    }
   ],
   "source": [
    "ds"
   ]
  },
  {
   "cell_type": "code",
   "execution_count": null,
   "metadata": {},
   "outputs": [],
   "source": [
    "# only encode the limited text_sents.\n",
    "model = SentenceTransformer('all-MiniLM-L6-v2')"
   ]
  },
  {
   "cell_type": "code",
   "execution_count": null,
   "metadata": {},
   "outputs": [],
   "source": [
    "def encode(sents):\n",
    "    return [model.encode(s) for s in sents]\n",
    "ds = ds.map(lambda d:{'text_embed_limd': encode(d['text_sents_limd'])})"
   ]
  },
  {
   "cell_type": "code",
   "execution_count": 18,
   "metadata": {},
   "outputs": [],
   "source": [
    "ds = load_from_disk('../../mimic_summ_data/mimic3_test_dataset_pre_processed_with_sent_encoding')"
   ]
  },
  {
   "cell_type": "code",
   "execution_count": null,
   "metadata": {},
   "outputs": [],
   "source": [
    "ds = ds.map(lambda d: {'text_embed_len': len(d['text_sents_limd'])})"
   ]
  },
  {
   "cell_type": "code",
   "execution_count": 20,
   "metadata": {},
   "outputs": [
    {
     "data": {
      "text/plain": [
       "[369, 493, 411, 135, 377]"
      ]
     },
     "execution_count": 20,
     "metadata": {},
     "output_type": "execute_result"
    }
   ],
   "source": [
    "ds['text_embed_len'][0:5]"
   ]
  },
  {
   "cell_type": "code",
   "execution_count": null,
   "metadata": {},
   "outputs": [],
   "source": [
    "[len(d) for d in ds['text_embed_limd'][0:5]]"
   ]
  },
  {
   "cell_type": "code",
   "execution_count": 37,
   "metadata": {},
   "outputs": [],
   "source": [
    "ds = load_from_disk('mimic3_val_dataset_pre_processed_with_sent_encoding')"
   ]
  },
  {
   "cell_type": "code",
   "execution_count": 52,
   "metadata": {},
   "outputs": [],
   "source": [
    "ds.save_to_disk('mimic3_train_dataset_pre_processed')"
   ]
  },
  {
   "cell_type": "code",
   "execution_count": null,
   "metadata": {
    "tags": []
   },
   "outputs": [],
   "source": [
    "for lim in tqdm(sent_limits):\n",
    "    col = f'summ_lim_{lim}'\n",
    "    def map_preds(d):\n",
    "        summ_sents = d[col]\n",
    "        text_sents = d['text_sents_limd']\n",
    "        sim_text_sent_idxs = []\n",
    "        sents_to_compare = text_sents\n",
    "        for summ_sent in summ_sents:\n",
    "            sents_to_compare = [s if i not in sim_text_sent_idxs else '' \n",
    "                                for i, s in enumerate(text_sents)]\n",
    "            ratios = [diff_ratio(summ_sent, sent)[0] for sent in sents_to_compare]\n",
    "            max_ratio_sents = np.where(ratios == np.amax(ratios))[0]\n",
    "            sim_text_sent_idxs.extend(max_ratio_sents)\n",
    "        preds = np.zeros(len(text_sents))\n",
    "        for i in sim_text_sent_idxs:\n",
    "            preds[i] = 1\n",
    "        return preds\n",
    "    ds = ds.map(lambda d: {f'preds_lim_{lim}': map_preds(d)}, num_proc=10) "
   ]
  },
  {
   "cell_type": "code",
   "execution_count": 136,
   "metadata": {},
   "outputs": [],
   "source": [
    "nlp = spacy.load('en_core_web_md')"
   ]
  },
  {
   "cell_type": "code",
   "execution_count": null,
   "metadata": {},
   "outputs": [],
   "source": [
    "ds = ds.map(lambda d: {'text_embed_limd_spacy': [nlp(s).vector for s in d['text_sents_limd']]})"
   ]
  },
  {
   "cell_type": "code",
   "execution_count": 10,
   "metadata": {},
   "outputs": [],
   "source": [
    "ds.save_to_disk('/data/users/k1897038/mimic3_dataset_pre_processed')"
   ]
  },
  {
   "cell_type": "code",
   "execution_count": 7,
   "metadata": {},
   "outputs": [],
   "source": [
    "metric = load_metric('rouge')"
   ]
  },
  {
   "cell_type": "code",
   "execution_count": 10,
   "metadata": {},
   "outputs": [],
   "source": [
    "sent_limits = [1,2,3,5,10,15]"
   ]
  },
  {
   "cell_type": "code",
   "execution_count": 26,
   "metadata": {},
   "outputs": [
    {
     "name": "stderr",
     "output_type": "stream",
     "text": [
      "100%|██████████████████████████████████████████████████████████████████████████████████████████████████████████████████████| 6/6 [2:40:54<00:00, 1609.12s/it]\n"
     ]
    }
   ],
   "source": [
    "extractive_score_ceil = {}\n",
    "for lim in tqdm(sent_limits):\n",
    "    text_sums = []\n",
    "    for sent_idxs, text_sents in zip([np.argwhere(np.array(p) == 1) for p in ds[f'preds_lim_{lim}']], \n",
    "                                     ds['text_sents']):\n",
    "        text_sum = []\n",
    "        for i in sent_idxs:\n",
    "            t = text_sents[i[0]]\n",
    "            if t not in text_sum:\n",
    "                text_sum.append(t)\n",
    "        text_sums.append(''.join(text_sum))\n",
    "    metric.add_batch(predictions=text_sums, references=[''.join(s) for s in ds[f'summ_lim_{lim}']])\n",
    "    scores = metric.compute()\n",
    "    extractive_score_ceil[lim] = _parse_score('rouge1', scores), _parse_score('rouge2', scores), _parse_score('rougeLsum', scores)"
   ]
  },
  {
   "cell_type": "code",
   "execution_count": 27,
   "metadata": {},
   "outputs": [
    {
     "data": {
      "text/plain": [
       "{1: (('rouge1', 0.2954789037242724, 0.3105789838775548, 0.26893790052938443),\n",
       "  ('rouge2', 0.1530013865553545, 0.18564336298053785, 0.14916766696966413),\n",
       "  ('rougeLsum', 0.2869088898344726, 0.30200243852475417, 0.2611722859785751)),\n",
       " 2: (('rouge1', 0.32752561931874313, 0.32203975278645547, 0.29883012290461897),\n",
       "  ('rouge2', 0.15113092568450023, 0.16597535441556202, 0.14596105283919245),\n",
       "  ('rougeLsum', 0.3149819334644566, 0.3105165310723039, 0.28765856215926366)),\n",
       " 3: (('rouge1', 0.3376198158858904, 0.32930108144291087, 0.31184174913281104),\n",
       "  ('rouge2', 0.1449426198825109, 0.15423277917724654, 0.14023967984408575),\n",
       "  ('rougeLsum', 0.32468482348078204, 0.3175217381467632, 0.30019911003394284)),\n",
       " 5: (('rouge1', 0.3468834457085018, 0.3392393929861849, 0.32352373382159033),\n",
       "  ('rouge2', 0.13473345442479184, 0.1401618027871774, 0.1302094035482527),\n",
       "  ('rougeLsum', 0.33473549433230215, 0.3280669965165318, 0.31245517642187637)),\n",
       " 10: (('rouge1', 0.3529488550942286, 0.35237821726160845, 0.3314793180767659),\n",
       "  ('rouge2', 0.11811481802119175, 0.12164064122979941, 0.11343846513093973),\n",
       "  ('rougeLsum', 0.3426689563179268, 0.3427315001353619, 0.3220083606781449)),\n",
       " 15: (('rouge1', 0.35332418182871755, 0.3623730622328863, 0.3333293728173722),\n",
       "  ('rouge2', 0.1098002143324242, 0.11463316612758195, 0.10530024113134762),\n",
       "  ('rougeLsum', 0.34390661265890904, 0.3532755025124695, 0.32458757604655764))}"
      ]
     },
     "execution_count": 27,
     "metadata": {},
     "output_type": "execute_result"
    }
   ],
   "source": [
    "extractive_score_ceil"
   ]
  },
  {
   "cell_type": "code",
   "execution_count": 38,
   "metadata": {},
   "outputs": [],
   "source": [
    "json.dump(extractive_score_ceil, open('/data/users/k1897038/outputs/extractive_score_ceil.json', 'w'))"
   ]
  },
  {
   "cell_type": "code",
   "execution_count": 14,
   "id": "0fbbe43c",
   "metadata": {},
   "outputs": [],
   "source": []
  }
 ],
 "metadata": {
  "kernelspec": {
   "display_name": "Python [conda env:cattrainer]",
   "language": "python",
   "name": "conda-env-cattrainer-py"
  },
  "language_info": {
   "codemirror_mode": {
    "name": "ipython",
    "version": 3
   },
   "file_extension": ".py",
   "mimetype": "text/x-python",
   "name": "python",
   "nbconvert_exporter": "python",
   "pygments_lexer": "ipython3",
   "version": "3.8.1"
  }
 },
 "nbformat": 4,
 "nbformat_minor": 5
}
