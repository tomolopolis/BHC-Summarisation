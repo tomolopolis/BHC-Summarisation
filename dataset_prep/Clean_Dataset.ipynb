{
 "cells": [
  {
   "cell_type": "code",
   "execution_count": 1,
   "metadata": {},
   "outputs": [],
   "source": [
    "%load_ext autoreload\n",
    "%autoreload 2"
   ]
  },
  {
   "cell_type": "code",
   "execution_count": 2,
   "metadata": {},
   "outputs": [],
   "source": [
    "import pandas as pd\n",
    "import numpy as np\n",
    "from datetime import datetime\n",
    "import re\n",
    "from collections import Counter\n",
    "from itertools import chain\n",
    "import pickle\n",
    "\n",
    "import pandas as pd\n",
    "from ipywidgets.widgets import HTML, Output, HBox, Button, Text\n",
    "from IPython.display import display, clear_output\n",
    "import json\n",
    "\n",
    "from mimic_note_clean import parse_radiology_report_text, parse_echo_report_text, parse_nurs_prog_notes_text, \\\n",
    "    parse_phys_prog_notes_text, parse_phys_intens_notes_text, parse_phys_attend_notes_text, parse_phys_res_attnd_adm_notes_text, \\\n",
    "    parse_phys_res_attn_micu_notes_text, parse_phys_res_attn_prog_notes_text, parse_phys_surgical_adm_notes_text, \\\n",
    "    parse_respiratory_care_shift_note\n",
    "from section_parser import section_discharge_texts, dis_sum_brief_hos_course_headers"
   ]
  },
  {
   "cell_type": "code",
   "execution_count": 1057,
   "metadata": {},
   "outputs": [],
   "source": [
    "stroke_notes = pd.read_csv('../../data/43411_notes.csv')"
   ]
  },
  {
   "cell_type": "code",
   "execution_count": 4,
   "metadata": {},
   "outputs": [
    {
     "data": {
      "text/html": [
       "<div>\n",
       "<style scoped>\n",
       "    .dataframe tbody tr th:only-of-type {\n",
       "        vertical-align: middle;\n",
       "    }\n",
       "\n",
       "    .dataframe tbody tr th {\n",
       "        vertical-align: top;\n",
       "    }\n",
       "\n",
       "    .dataframe thead th {\n",
       "        text-align: right;\n",
       "    }\n",
       "</style>\n",
       "<table border=\"1\" class=\"dataframe\">\n",
       "  <thead>\n",
       "    <tr style=\"text-align: right;\">\n",
       "      <th></th>\n",
       "      <th>category</th>\n",
       "      <th>description</th>\n",
       "      <th>text</th>\n",
       "    </tr>\n",
       "  </thead>\n",
       "  <tbody>\n",
       "    <tr>\n",
       "      <th>0</th>\n",
       "      <td>Nursing</td>\n",
       "      <td>Nursing Progress Note</td>\n",
       "      <td>CVA (Stroke, Cerebral infarction), Ischemic\\n ...</td>\n",
       "    </tr>\n",
       "    <tr>\n",
       "      <th>1</th>\n",
       "      <td>Nursing</td>\n",
       "      <td>Nursing Progress Note</td>\n",
       "      <td>CVA (Stroke, Cerebral infarction), Ischemic\\n ...</td>\n",
       "    </tr>\n",
       "    <tr>\n",
       "      <th>2</th>\n",
       "      <td>Nursing</td>\n",
       "      <td>Nursing Progress Note</td>\n",
       "      <td>CVA (Stroke, Cerebral infarction), Ischemic\\n ...</td>\n",
       "    </tr>\n",
       "    <tr>\n",
       "      <th>3</th>\n",
       "      <td>Physician</td>\n",
       "      <td>Physician Surgical Admission Note</td>\n",
       "      <td>Chief Complaint: Stroke\\n   HPI:\\n    HPI: 84 ...</td>\n",
       "    </tr>\n",
       "    <tr>\n",
       "      <th>4</th>\n",
       "      <td>Nursing</td>\n",
       "      <td>Nursing Progress Note</td>\n",
       "      <td>CVA (Stroke, Cerebral infarction), Ischemic\\n ...</td>\n",
       "    </tr>\n",
       "    <tr>\n",
       "      <th>...</th>\n",
       "      <td>...</td>\n",
       "      <td>...</td>\n",
       "      <td>...</td>\n",
       "    </tr>\n",
       "    <tr>\n",
       "      <th>8208</th>\n",
       "      <td>Nursing</td>\n",
       "      <td>Nursing Progress Note</td>\n",
       "      <td>TITLE:\\n   CVA (Stroke, Cerebral infarction), ...</td>\n",
       "    </tr>\n",
       "    <tr>\n",
       "      <th>8209</th>\n",
       "      <td>Nursing</td>\n",
       "      <td>Nursing Progress Note</td>\n",
       "      <td>.H/O airway, Inability to Protect (Risk for As...</td>\n",
       "    </tr>\n",
       "    <tr>\n",
       "      <th>8210</th>\n",
       "      <td>Respiratory</td>\n",
       "      <td>Respiratory Care Shift Note</td>\n",
       "      <td>Demographics\\n   Day of intubation:\\n   Day of...</td>\n",
       "    </tr>\n",
       "    <tr>\n",
       "      <th>8211</th>\n",
       "      <td>Physician</td>\n",
       "      <td>Intensivist Note</td>\n",
       "      <td>SICU\\n   HPI:\\n   76 yo F h/o afib on Coumadin...</td>\n",
       "    </tr>\n",
       "    <tr>\n",
       "      <th>8212</th>\n",
       "      <td>Physician</td>\n",
       "      <td>Intensivist Note</td>\n",
       "      <td>SICU\\n   HPI:\\n   69 yo F w/ left cerebellar t...</td>\n",
       "    </tr>\n",
       "  </tbody>\n",
       "</table>\n",
       "<p>8213 rows × 3 columns</p>\n",
       "</div>"
      ],
      "text/plain": [
       "          category                        description  \\\n",
       "0          Nursing              Nursing Progress Note   \n",
       "1          Nursing              Nursing Progress Note   \n",
       "2          Nursing              Nursing Progress Note   \n",
       "3       Physician   Physician Surgical Admission Note   \n",
       "4          Nursing              Nursing Progress Note   \n",
       "...            ...                                ...   \n",
       "8208       Nursing              Nursing Progress Note   \n",
       "8209       Nursing              Nursing Progress Note   \n",
       "8210  Respiratory         Respiratory Care Shift Note   \n",
       "8211    Physician                    Intensivist Note   \n",
       "8212    Physician                    Intensivist Note   \n",
       "\n",
       "                                                   text  \n",
       "0     CVA (Stroke, Cerebral infarction), Ischemic\\n ...  \n",
       "1     CVA (Stroke, Cerebral infarction), Ischemic\\n ...  \n",
       "2     CVA (Stroke, Cerebral infarction), Ischemic\\n ...  \n",
       "3     Chief Complaint: Stroke\\n   HPI:\\n    HPI: 84 ...  \n",
       "4     CVA (Stroke, Cerebral infarction), Ischemic\\n ...  \n",
       "...                                                 ...  \n",
       "8208  TITLE:\\n   CVA (Stroke, Cerebral infarction), ...  \n",
       "8209  .H/O airway, Inability to Protect (Risk for As...  \n",
       "8210  Demographics\\n   Day of intubation:\\n   Day of...  \n",
       "8211  SICU\\n   HPI:\\n   76 yo F h/o afib on Coumadin...  \n",
       "8212  SICU\\n   HPI:\\n   69 yo F w/ left cerebellar t...  \n",
       "\n",
       "[8213 rows x 3 columns]"
      ]
     },
     "execution_count": 4,
     "metadata": {},
     "output_type": "execute_result"
    }
   ],
   "source": [
    "stroke_notes.loc[:, ['category', 'description', 'text']]"
   ]
  },
  {
   "cell_type": "code",
   "execution_count": 5,
   "metadata": {},
   "outputs": [],
   "source": [
    "stroke_notes['cat_desc'] = stroke_notes.category.str.cat(stroke_notes.description, sep=':')"
   ]
  },
  {
   "cell_type": "code",
   "execution_count": 5,
   "metadata": {},
   "outputs": [
    {
     "ename": "NameError",
     "evalue": "name 'stroke_notes' is not defined",
     "output_type": "error",
     "traceback": [
      "\u001b[0;31m---------------------------------------------------------------------------\u001b[0m",
      "\u001b[0;31mNameError\u001b[0m                                 Traceback (most recent call last)",
      "\u001b[0;32m<ipython-input-5-14679a9906e4>\u001b[0m in \u001b[0;36m<module>\u001b[0;34m\u001b[0m\n\u001b[0;32m----> 1\u001b[0;31m \u001b[0mstroke_notes\u001b[0m\u001b[0;34m.\u001b[0m\u001b[0mcat_desc\u001b[0m\u001b[0;34m.\u001b[0m\u001b[0munique\u001b[0m\u001b[0;34m(\u001b[0m\u001b[0;34m)\u001b[0m\u001b[0;34m\u001b[0m\u001b[0m\n\u001b[0m",
      "\u001b[0;31mNameError\u001b[0m: name 'stroke_notes' is not defined"
     ]
    }
   ],
   "source": [
    "stroke_notes.cat_desc.unique()"
   ]
  },
  {
   "cell_type": "code",
   "execution_count": 7,
   "metadata": {},
   "outputs": [],
   "source": [
    "texts = stroke_notes[stroke_notes.cat_desc == 'Discharge summary:Report'].text.str.lower().reset_index(drop=True)"
   ]
  },
  {
   "cell_type": "code",
   "execution_count": 35,
   "metadata": {},
   "outputs": [],
   "source": [
    "all_discharge_notes = pd.read_csv('/Users/tom/phd/tdy_ehr/mimic_tidy/data/notes.csv')"
   ]
  },
  {
   "cell_type": "code",
   "execution_count": 36,
   "metadata": {},
   "outputs": [],
   "source": [
    "admissions = pd.read_csv('/Users/tom/phd/tdy_ehr/mimic_tidy/data/admissions.csv')"
   ]
  },
  {
   "cell_type": "code",
   "execution_count": 37,
   "metadata": {},
   "outputs": [],
   "source": [
    "patients = pd.read_csv('/Users/tom/phd/tdy_ehr/mimic_tidy/data/patients.csv')\n",
    "patients.dob = patients.dob.apply(lambda x: datetime.strptime(x, '%Y-%m-%d %H:%M:%S'))"
   ]
  },
  {
   "cell_type": "code",
   "execution_count": 38,
   "metadata": {},
   "outputs": [],
   "source": [
    "all_discharge_notes = all_discharge_notes.merge(patients.loc[:, ['subject_id', 'dob']], 'left', 'subject_id')"
   ]
  },
  {
   "cell_type": "code",
   "execution_count": 39,
   "metadata": {},
   "outputs": [],
   "source": [
    "all_discharge_notes['chartdate'] = all_discharge_notes.chartdate.apply(lambda x: datetime.strptime(x, '%Y-%m-%d %H:%M:%S'))"
   ]
  },
  {
   "cell_type": "code",
   "execution_count": 40,
   "metadata": {},
   "outputs": [
    {
     "data": {
      "text/plain": [
       "Index(['Unnamed: 0', 'subject_id', 'hadm_id', 'chartdate', 'category',\n",
       "       'description', 'text', 'dob'],\n",
       "      dtype='object')"
      ]
     },
     "execution_count": 40,
     "metadata": {},
     "output_type": "execute_result"
    }
   ],
   "source": []
  },
  {
   "cell_type": "code",
   "execution_count": 45,
   "metadata": {},
   "outputs": [],
   "source": [
    "all_discharge_notes.drop('Unnamed: 0', inplace=True, axis=1)"
   ]
  },
  {
   "cell_type": "code",
   "execution_count": 46,
   "metadata": {},
   "outputs": [],
   "source": [
    "all_discharge_notes['subject_age'] = all_discharge_notes.apply(lambda r: r.chartdate.year - r.dob.year, axis=1)"
   ]
  },
  {
   "cell_type": "code",
   "execution_count": 47,
   "metadata": {},
   "outputs": [
    {
     "name": "stderr",
     "output_type": "stream",
     "text": [
      "/Users/tom/anaconda3/envs/cattrainer/lib/python3.7/site-packages/pandas/core/strings.py:2001: UserWarning: This pattern has match groups. To actually get the groups, use str.extract.\n",
      "  return func(self, *args, **kwargs)\n"
     ]
    }
   ],
   "source": [
    "pat = [\n",
    "    '(brief hospital course:)',\n",
    "    '(hospital course:)',\n",
    "    '(concise summary of hospital course by issue/system:)',\n",
    "    '(summary of hospital course by systems:)',\n",
    "    '(hospital course by systems including pertinent laboratory\\ndata:)',\n",
    "    '(details of hospital course:)',\n",
    "]\n",
    "contains_brief_hosp_course_sec = all_discharge_notes.text.str.lower().str.contains('|'.join(pat))\n",
    "brief_hos_course_notes = all_discharge_notes[contains_brief_hosp_course_sec]"
   ]
  },
  {
   "cell_type": "code",
   "execution_count": 48,
   "metadata": {},
   "outputs": [],
   "source": [
    "comp_pat = re.compile('|'.join(pat), re.IGNORECASE)"
   ]
  },
  {
   "cell_type": "code",
   "execution_count": 49,
   "metadata": {},
   "outputs": [],
   "source": [
    "matches = all_discharge_notes.text.apply(lambda t: re.search(comp_pat, t))"
   ]
  },
  {
   "cell_type": "code",
   "execution_count": 50,
   "metadata": {},
   "outputs": [],
   "source": [
    "dis_notes = all_discharge_notes.loc[~pd.isna(matches)]"
   ]
  },
  {
   "cell_type": "code",
   "execution_count": 51,
   "metadata": {},
   "outputs": [],
   "source": [
    "matches = matches.loc[~pd.isna(matches)]"
   ]
  },
  {
   "cell_type": "code",
   "execution_count": null,
   "metadata": {},
   "outputs": [],
   "source": [
    "matches.shape"
   ]
  },
  {
   "cell_type": "code",
   "execution_count": 15,
   "metadata": {},
   "outputs": [
    {
     "name": "stderr",
     "output_type": "stream",
     "text": [
      "/Users/tom/anaconda3/envs/cattrainer/lib/python3.7/site-packages/ipykernel_launcher.py:1: SettingWithCopyWarning: \n",
      "A value is trying to be set on a copy of a slice from a DataFrame.\n",
      "Try using .loc[row_indexer,col_indexer] = value instead\n",
      "\n",
      "See the caveats in the documentation: https://pandas.pydata.org/pandas-docs/stable/user_guide/indexing.html#returning-a-view-versus-a-copy\n",
      "  \"\"\"Entry point for launching an IPython kernel.\n"
     ]
    }
   ],
   "source": [
    "dis_notes['match_start'] = matches"
   ]
  },
  {
   "cell_type": "code",
   "execution_count": 16,
   "metadata": {},
   "outputs": [
    {
     "name": "stderr",
     "output_type": "stream",
     "text": [
      "/Users/tom/anaconda3/envs/cattrainer/lib/python3.7/site-packages/ipykernel_launcher.py:1: SettingWithCopyWarning: \n",
      "A value is trying to be set on a copy of a slice from a DataFrame.\n",
      "Try using .loc[row_indexer,col_indexer] = value instead\n",
      "\n",
      "See the caveats in the documentation: https://pandas.pydata.org/pandas-docs/stable/user_guide/indexing.html#returning-a-view-versus-a-copy\n",
      "  \"\"\"Entry point for launching an IPython kernel.\n"
     ]
    }
   ],
   "source": [
    "dis_notes['hos_course_text'] = dis_notes.apply(lambda r: r.text[r.match_start.start():], axis=1)"
   ]
  },
  {
   "cell_type": "code",
   "execution_count": null,
   "metadata": {},
   "outputs": [],
   "source": [
    "end_delim_match = [re.search('(\\n\\n(?!#|\\*|\\d|\\s|\\[|\\().*:)', s, re.IGNORECASE) for s in samples]"
   ]
  },
  {
   "cell_type": "code",
   "execution_count": 81,
   "metadata": {},
   "outputs": [],
   "source": [
    "dis_notes.sample(100).to_csv('dis_notes_sample.csv')"
   ]
  },
  {
   "cell_type": "code",
   "execution_count": null,
   "metadata": {},
   "outputs": [],
   "source": [
    "dis_notes['hos_course_text_subsection'] = dis_notes.apply(lambda r: r.hos_course_text[0:r.next_sec_matches.start()], axis=1)"
   ]
  },
  {
   "cell_type": "code",
   "execution_count": null,
   "metadata": {},
   "outputs": [],
   "source": [
    "dis_notes.shape"
   ]
  },
  {
   "cell_type": "code",
   "execution_count": 469,
   "metadata": {},
   "outputs": [
    {
     "data": {
      "application/vnd.jupyter.widget-view+json": {
       "model_id": "89f7b48defde464ab1ff0593b6bb74e8",
       "version_major": 2,
       "version_minor": 0
      },
      "text/plain": [
       "HTML(value='<div style=\"width=100%\"><div style=\"display:inline-block;width:50%; white-space: pre-wrap; line-he…"
      ]
     },
     "metadata": {},
     "output_type": "display_data"
    }
   ],
   "source": [
    "full_sec = random_100_sample.iloc[idx].hos_course_text\n",
    "sec = random_100_sample.iloc[idx].hos_course_text_subsection\n",
    "HTML(value=f'<div style=\"width=100%\">' +\\\n",
    "     f'<div style=\"display:inline-block;width:50%; white-space: pre-wrap; line-height: 1.2\">{full_sec}</div>' +\\\n",
    "     f'<div style=\"display:inline-block;width:50%; white-space: pre-wrap; line-height: 1.2\">{sec}</div>' +\\\n",
    "     '</div>')"
   ]
  },
  {
   "cell_type": "code",
   "execution_count": null,
   "metadata": {},
   "outputs": [],
   "source": []
  },
  {
   "cell_type": "code",
   "execution_count": null,
   "metadata": {},
   "outputs": [],
   "source": [
    "# sorted(Counter([e.group(0).lower() if e is not None else '' for e in end_delim_match]).items(), key=lambda k_v: k_v[1], reverse=True) \n",
    "# set([s.groups(0)[0] for i, s in enumerate(samples_short) if s is not None ])"
   ]
  },
  {
   "cell_type": "code",
   "execution_count": null,
   "metadata": {},
   "outputs": [],
   "source": [
    "dis_notes.drop('Unnamed: 0', axis=1, inplace=True)"
   ]
  },
  {
   "cell_type": "code",
   "execution_count": 708,
   "metadata": {},
   "outputs": [],
   "source": [
    "dis_notes.reset_index(drop=True).to_csv('dis_notes_hosp_course_extracted.csv')"
   ]
  },
  {
   "cell_type": "code",
   "execution_count": null,
   "metadata": {},
   "outputs": [],
   "source": []
  },
  {
   "cell_type": "code",
   "execution_count": 193,
   "metadata": {},
   "outputs": [],
   "source": [
    "# Retrieve DataFrame\n",
    "dis_notes = pd.read_csv('dis_notes_hosp_course_extracted.csv')"
   ]
  },
  {
   "cell_type": "code",
   "execution_count": 194,
   "metadata": {},
   "outputs": [],
   "source": [
    "dis_notes.drop('Unnamed: 0', axis=1, inplace=True)"
   ]
  },
  {
   "cell_type": "code",
   "execution_count": 7,
   "metadata": {},
   "outputs": [],
   "source": [
    "# Remove:\n",
    "# - re-admissions, cases that have the same admission ID but with multiple discharge summary reports\n",
    "# - where there are addendums to exisiting reports"
   ]
  },
  {
   "cell_type": "code",
   "execution_count": 117,
   "metadata": {},
   "outputs": [],
   "source": [
    "pickle.dump(out_texts, open('dis_course_secs.pickle', 'wb'))"
   ]
  },
  {
   "cell_type": "code",
   "execution_count": 113,
   "metadata": {},
   "outputs": [],
   "source": [
    "out_texts = dis_notes.text.apply(section_discharge_texts)"
   ]
  },
  {
   "cell_type": "code",
   "execution_count": 134,
   "metadata": {},
   "outputs": [],
   "source": [
    "brief_hos_course_secs = []\n",
    "other_secs = []\n",
    "dis_course_headers = [h.lower().strip().replace(':', '') for h in dis_sum_brief_hos_course_headers]\n",
    "for row in out_texts:\n",
    "    brief_hos_course = None\n",
    "    brief_hos_course_idx = None\n",
    "    for i, (sec, sec_name) in enumerate(zip(row[0], row[1])):\n",
    "        if sec_name in dis_course_headers:\n",
    "            brief_hos_course = sec\n",
    "            brief_hos_course_idx = i\n",
    "    if brief_hos_course_idx is not None:\n",
    "        row_secs = row[0][0:brief_hos_course_idx] + row[0][brief_hos_course_idx+1:]\n",
    "        row_sec_headers = row[1][0:brief_hos_course_idx] + row[1][brief_hos_course_idx+1:]\n",
    "    brief_hos_course_secs.append(brief_hos_course)\n",
    "    other_secs.append([row_secs, row_sec_headers])"
   ]
  },
  {
   "cell_type": "code",
   "execution_count": 139,
   "metadata": {},
   "outputs": [],
   "source": [
    "other_sec_header_counts = Counter(list(chain.from_iterable([o[1] for o in other_secs])))"
   ]
  },
  {
   "cell_type": "code",
   "execution_count": 170,
   "metadata": {},
   "outputs": [
    {
     "name": "stdout",
     "output_type": "stream",
     "text": [
      "(83, 2)\n"
     ]
    }
   ],
   "source": [
    "sec_headers_df = pd.Series(other_sec_header_counts).sort_values(ascending=False).reset_index()\n",
    "print(sec_headers_df.shape)\n",
    "hdrs = sec_headers_df['index'].tolist()"
   ]
  },
  {
   "cell_type": "code",
   "execution_count": null,
   "metadata": {},
   "outputs": [],
   "source": [
    "print('\\n'.join([f'{h}:{c}' for h,c in zip(sec_headers_df['index'].tolist(), sec_headers_df[0].tolist())]))"
   ]
  },
  {
   "cell_type": "code",
   "execution_count": 178,
   "metadata": {},
   "outputs": [],
   "source": [
    "headers_to_use = [\n",
    "    \"preamble\",\n",
    "    \"history of present illness\",\n",
    "    \"past medical history\",\n",
    "    \"discharge medications\",\n",
    "    \"physical exam\",\n",
    "    \"medications on admission\",\n",
    "    \"discharge diagnosis\",\n",
    "    \"discharge disposition\",\n",
    "    \"impression\",\n",
    "    \"physical examination\",\n",
    "    \"hpi\",\n",
    "    \"problem list\",\n",
    "]"
   ]
  },
  {
   "cell_type": "code",
   "execution_count": 209,
   "metadata": {},
   "outputs": [
    {
     "data": {
      "text/plain": [
       "(['preamble',\n",
       "  'history of present illness',\n",
       "  'past medical history',\n",
       "  'physical exam',\n",
       "  'brief hospital course',\n",
       "  'medications on admission',\n",
       "  'discharge medications',\n",
       "  'discharge disposition',\n",
       "  'discharge diagnosis',\n",
       "  'discharge condition',\n",
       "  'discharge instructions'],)"
      ]
     },
     "execution_count": 209,
     "metadata": {},
     "output_type": "execute_result"
    }
   ],
   "source": [
    "list(zip(out_texts[0])"
   ]
  },
  {
   "cell_type": "code",
   "execution_count": 248,
   "metadata": {},
   "outputs": [],
   "source": [
    "filtered_out_texts = []\n",
    "for secs, sec_headers, _ in out_texts:\n",
    "    filtered_secs, filtered_headers = [], []\n",
    "    for sec, sec_h in zip(secs, sec_headers):\n",
    "        if sec_h in headers_to_use:\n",
    "            filtered_secs.append(sec)\n",
    "            filtered_headers.append(sec_h)\n",
    "    filtered_out_texts.append([filtered_secs, filtered_headers])"
   ]
  },
  {
   "cell_type": "code",
   "execution_count": 257,
   "metadata": {},
   "outputs": [
    {
     "data": {
      "text/plain": [
       "Index(['subject_id', 'hadm_id', 'chartdate', 'category', 'description', 'text',\n",
       "       'dob', 'subject_age', 'match_start', 'hos_course_text',\n",
       "       'next_sec_matches', 'hos_course_text_subsection'],\n",
       "      dtype='object')"
      ]
     },
     "execution_count": 257,
     "metadata": {},
     "output_type": "execute_result"
    }
   ],
   "source": [
    "dis_notes.columns"
   ]
  },
  {
   "cell_type": "code",
   "execution_count": null,
   "metadata": {},
   "outputs": [],
   "source": [
    "dis_notes.loc[:, ['hos_course_text_subsection', 'hadm_id']]"
   ]
  },
  {
   "cell_type": "code",
   "execution_count": null,
   "metadata": {},
   "outputs": [],
   "source": [
    "filtered_out_texts"
   ]
  },
  {
   "cell_type": "code",
   "execution_count": 264,
   "metadata": {},
   "outputs": [
    {
     "data": {
      "text/plain": [
       "51267"
      ]
     },
     "execution_count": 264,
     "metadata": {},
     "output_type": "execute_result"
    }
   ],
   "source": [
    "len(filtered_out_texts)"
   ]
  },
  {
   "cell_type": "code",
   "execution_count": 267,
   "metadata": {},
   "outputs": [],
   "source": [
    "dis_notes['other_dis_notes_secs'] = filtered_out_texts"
   ]
  },
  {
   "cell_type": "code",
   "execution_count": 269,
   "metadata": {},
   "outputs": [],
   "source": [
    "dis_notes.to_csv('dis_notes_hosp_course_extracted.csv')"
   ]
  },
  {
   "cell_type": "code",
   "execution_count": null,
   "metadata": {},
   "outputs": [],
   "source": []
  },
  {
   "cell_type": "code",
   "execution_count": null,
   "metadata": {},
   "outputs": [],
   "source": []
  },
  {
   "cell_type": "code",
   "execution_count": 9,
   "metadata": {},
   "outputs": [
    {
     "name": "stderr",
     "output_type": "stream",
     "text": [
      "/Users/tom/anaconda3/envs/cattrainer/lib/python3.7/site-packages/IPython/core/interactiveshell.py:3051: DtypeWarning: Columns (3) have mixed types.Specify dtype option on import or set low_memory=False.\n",
      "  interactivity=interactivity, compiler=compiler, result=result)\n"
     ]
    }
   ],
   "source": [
    "all_notes = pd.read_csv('/Users/tom/phd/tdy_ehr/mimic_tidy/data/all_notes.csv')"
   ]
  },
  {
   "cell_type": "code",
   "execution_count": null,
   "metadata": {},
   "outputs": [],
   "source": [
    "print(all_notes[all_notes.hadm_id == 117390].iloc[0].text)"
   ]
  },
  {
   "cell_type": "code",
   "execution_count": 10,
   "metadata": {},
   "outputs": [],
   "source": [
    "all_notes = all_notes[all_notes.hadm_id.isin(single_adm_ids)]"
   ]
  },
  {
   "cell_type": "code",
   "execution_count": 82,
   "metadata": {},
   "outputs": [],
   "source": [
    "# remove discharge summaries\n",
    "all_notes = all_notes[all_notes.category != 'Discharge summary']"
   ]
  },
  {
   "cell_type": "code",
   "execution_count": 388,
   "metadata": {},
   "outputs": [],
   "source": [
    "# remove ECG reports\n",
    "# ECG text is pretty short and not that useful...\n",
    "all_notes = all_notes[all_notes.category != 'ECG']"
   ]
  },
  {
   "cell_type": "code",
   "execution_count": 11,
   "metadata": {},
   "outputs": [],
   "source": [
    "# Remove:\n",
    "# - single report admissions. These are only discharge summaries so cannot be 'summarised' from other notes.\n",
    "single_note_admissions = (all_notes.hadm_id.value_counts() == 1).reset_index()\n",
    "single_note_admissions = single_note_admissions[single_note_admissions.hadm_id]['index'].reset_index(drop=True)\n",
    "all_notes = all_notes[~all_notes.hadm_id.isin(single_note_admissions)]"
   ]
  },
  {
   "cell_type": "code",
   "execution_count": null,
   "metadata": {},
   "outputs": [],
   "source": [
    "dis_notes[dis_notes.hadm_id == 175441]"
   ]
  },
  {
   "cell_type": "code",
   "execution_count": null,
   "metadata": {},
   "outputs": [],
   "source": [
    "print(dis_notes[dis_notes.hadm_id == 118785].hos_course_text_subsection.iloc[])"
   ]
  },
  {
   "cell_type": "code",
   "execution_count": 120,
   "metadata": {},
   "outputs": [
    {
     "data": {
      "text/plain": [
       "1579"
      ]
     },
     "execution_count": 120,
     "metadata": {},
     "output_type": "execute_result"
    }
   ],
   "source": [
    "len([(k,v) for k,v in Counter(dis_notes.hadm_id).items() if v > 1])"
   ]
  },
  {
   "cell_type": "code",
   "execution_count": 124,
   "metadata": {},
   "outputs": [
    {
     "data": {
      "text/plain": [
       "Index(['subject_id', 'hadm_id', 'chartdate', 'charttime', 'text', 'category',\n",
       "       'description'],\n",
       "      dtype='object')"
      ]
     },
     "execution_count": 124,
     "metadata": {},
     "output_type": "execute_result"
    }
   ],
   "source": [
    "all_notes.columns"
   ]
  },
  {
   "cell_type": "code",
   "execution_count": 35,
   "metadata": {},
   "outputs": [],
   "source": [
    "all_notes['cat:desc'] = all_notes.category.str.cat(all_notes.description, sep=':')"
   ]
  },
  {
   "cell_type": "code",
   "execution_count": 39,
   "metadata": {},
   "outputs": [
    {
     "data": {
      "text/plain": [
       "Nursing/other:Report                           639820\n",
       "Nursing:Nursing Progress Note                  186587\n",
       "Radiology:CHEST (PORTABLE AP)                  148309\n",
       "ECG:Report                                     131213\n",
       "Physician :Physician Resident Progress Note     61453\n",
       "Discharge summary:Report                        51449\n",
       "Echo:Report                                     32262\n",
       "Respiratory :Respiratory Care Shift Note        30575\n",
       "Nursing:Nursing Transfer Note                   29642\n",
       "Physician :Intensivist Note                     25378\n",
       "Name: cat:desc, dtype: int64"
      ]
     },
     "execution_count": 39,
     "metadata": {},
     "output_type": "execute_result"
    }
   ],
   "source": [
    "all_notes['cat:desc'].value_counts().head(10)"
   ]
  },
  {
   "cell_type": "code",
   "execution_count": 149,
   "metadata": {},
   "outputs": [],
   "source": [
    "chest_ap_notes = all_notes[all_notes['cat:desc'] == 'Radiology:CHEST (PORTABLE AP)'].text\n",
    "idx = 0"
   ]
  },
  {
   "cell_type": "code",
   "execution_count": 60,
   "metadata": {},
   "outputs": [],
   "source": [
    "# Final 'clean' doc to be fed into a model.\n",
    "all_notes['clean_text'] = None"
   ]
  },
  {
   "cell_type": "code",
   "execution_count": 256,
   "metadata": {},
   "outputs": [
    {
     "name": "stderr",
     "output_type": "stream",
     "text": [
      "/Users/tom/anaconda3/envs/cattrainer/lib/python3.7/site-packages/ipykernel_launcher.py:1: SettingWithCopyWarning: \n",
      "A value is trying to be set on a copy of a slice from a DataFrame.\n",
      "Try using .loc[row_indexer,col_indexer] = value instead\n",
      "\n",
      "See the caveats in the documentation: https://pandas.pydata.org/pandas-docs/stable/user_guide/indexing.html#returning-a-view-versus-a-copy\n",
      "  \"\"\"Entry point for launching an IPython kernel.\n"
     ]
    }
   ],
   "source": [
    "all_notes.loc[:, 'charttime'] = all_notes.charttime.apply(lambda x: datetime.strptime(x, '%Y-%m-%d %H:%M:%S') if type(x) == str else x)"
   ]
  },
  {
   "cell_type": "code",
   "execution_count": 258,
   "metadata": {},
   "outputs": [
    {
     "data": {
      "text/plain": [
       "0         2126-12-01 17:22:00\n",
       "1         2165-12-08 17:12:00\n",
       "2         2165-12-08 17:12:00\n",
       "3         2165-12-08 17:12:00\n",
       "4         2150-11-30 10:58:00\n",
       "                  ...        \n",
       "2083175   2150-11-29 20:18:00\n",
       "2083176   2190-12-06 10:52:00\n",
       "2083177   2190-12-06 10:52:00\n",
       "2083178   2126-12-01 17:22:00\n",
       "2083179   2203-11-01 07:54:00\n",
       "Name: charttime, Length: 1572322, dtype: datetime64[ns]"
      ]
     },
     "execution_count": 258,
     "metadata": {},
     "output_type": "execute_result"
    }
   ],
   "source": [
    "all_notes[:, 'chartdate'] = all_notes.chartdate.apply(lambda x: datetime.strptime(x, '%Y-%m-%d %H:%M:%S'))"
   ]
  },
  {
   "cell_type": "code",
   "execution_count": 763,
   "metadata": {},
   "outputs": [],
   "source": [
    "parsed_reports = parse_radiology_report_text(all_notes.loc[all_notes.category == 'Radiology'])"
   ]
  },
  {
   "cell_type": "code",
   "execution_count": 764,
   "metadata": {},
   "outputs": [
    {
     "name": "stderr",
     "output_type": "stream",
     "text": [
      "/Users/tom/anaconda3/envs/cattrainer/lib/python3.7/site-packages/pandas/core/indexing.py:1745: SettingWithCopyWarning: \n",
      "A value is trying to be set on a copy of a slice from a DataFrame.\n",
      "Try using .loc[row_indexer,col_indexer] = value instead\n",
      "\n",
      "See the caveats in the documentation: https://pandas.pydata.org/pandas-docs/stable/user_guide/indexing.html#returning-a-view-versus-a-copy\n",
      "  isetter(ilocs[0], value)\n"
     ]
    }
   ],
   "source": [
    "# only use the 'impression' sections of radiology reports\n",
    "all_notes.loc[all_notes.category == 'Radiology', 'clean_text'] = [rep[0] for rep in parsed_reports]"
   ]
  },
  {
   "cell_type": "code",
   "execution_count": 765,
   "metadata": {},
   "outputs": [],
   "source": [
    "radio_notes = all_notes.loc[all_notes.category == 'Radiology', 'clean_text']\n",
    "no_imp_radio_notes = all_notes.loc[radio_notes[pd.isna(radio_notes)].index]"
   ]
  },
  {
   "cell_type": "code",
   "execution_count": 332,
   "metadata": {},
   "outputs": [],
   "source": [
    "all_notes.to_csv('all_notes_partially_parsed.csv')"
   ]
  },
  {
   "cell_type": "code",
   "execution_count": 373,
   "metadata": {},
   "outputs": [],
   "source": [
    "echo_impressions = parse_echo_report_text(all_notes[all_notes.category == 'Echo'])\n",
    "# only use the 'impression' sections of radiology reports\n",
    "all_notes.loc[all_notes.category == 'Echo', 'clean_text'] = [rep[0] for rep in echo_impressions]"
   ]
  },
  {
   "cell_type": "code",
   "execution_count": 903,
   "metadata": {},
   "outputs": [],
   "source": [
    "nurs_prog_notes = all_notes.loc[(all_notes.category == 'Nursing') & (all_notes.description == 'Nursing Progress Note')]"
   ]
  },
  {
   "cell_type": "code",
   "execution_count": 904,
   "metadata": {},
   "outputs": [
    {
     "name": "stderr",
     "output_type": "stream",
     "text": [
      "/Users/tom/phd/summariser/clinical_sum/mimic_summarisation_clean/mimic_radiology_clean.py:18: FutureWarning: elementwise comparison failed; returning scalar instead, but in the future will perform elementwise comparison\n",
      "  else:\n"
     ]
    }
   ],
   "source": [
    "nurs_prog_reports_assessments = parse_nurs_prog_notes_text(nurs_prog_notes)"
   ]
  },
  {
   "cell_type": "code",
   "execution_count": 907,
   "metadata": {},
   "outputs": [],
   "source": [
    "assessment_reports = [rep[0].strip() for rep in nurs_prog_reports_assessments]"
   ]
  },
  {
   "cell_type": "code",
   "execution_count": 912,
   "metadata": {},
   "outputs": [],
   "source": [
    "row_idxr = (all_notes.category == 'Nursing') & (all_notes.description == 'Nursing Progress Note')\n",
    "all_notes.loc[row_idxr, 'clean_text'] = assessment_reports"
   ]
  },
  {
   "cell_type": "code",
   "execution_count": 837,
   "metadata": {},
   "outputs": [],
   "source": [
    "nurs_not_prog_notes = all_notes[(all_notes.category == 'Nursing') & (all_notes.description != 'Nursing Progress Note')]"
   ]
  },
  {
   "cell_type": "code",
   "execution_count": 943,
   "metadata": {},
   "outputs": [
    {
     "name": "stderr",
     "output_type": "stream",
     "text": [
      "/Users/tom/phd/summariser/clinical_sum/mimic_summarisation_clean/mimic_radiology_clean.py:18: FutureWarning: elementwise comparison failed; returning scalar instead, but in the future will perform elementwise comparison\n",
      "  else:\n"
     ]
    }
   ],
   "source": [
    "nurs_transfer_notes_assessments = parse_nurs_prog_notes_text(nurs_not_prog_notes[nurs_not_prog_notes.description == 'Nursing Transfer Note'])"
   ]
  },
  {
   "cell_type": "code",
   "execution_count": 948,
   "metadata": {},
   "outputs": [],
   "source": [
    "assessment_reports = [rep[0].strip() for rep in nurs_transfer_notes_assessments]"
   ]
  },
  {
   "cell_type": "code",
   "execution_count": 949,
   "metadata": {},
   "outputs": [
    {
     "name": "stderr",
     "output_type": "stream",
     "text": [
      "/Users/tom/anaconda3/envs/cattrainer/lib/python3.7/site-packages/pandas/core/indexing.py:1745: SettingWithCopyWarning: \n",
      "A value is trying to be set on a copy of a slice from a DataFrame.\n",
      "Try using .loc[row_indexer,col_indexer] = value instead\n",
      "\n",
      "See the caveats in the documentation: https://pandas.pydata.org/pandas-docs/stable/user_guide/indexing.html#returning-a-view-versus-a-copy\n",
      "  isetter(ilocs[0], value)\n"
     ]
    }
   ],
   "source": [
    "row_idxr = (all_notes.category == 'Nursing') & (all_notes.description == 'Nursing Transfer Note')\n",
    "all_notes.loc[row_idxr, 'clean_text'] = assessment_reports"
   ]
  },
  {
   "cell_type": "code",
   "execution_count": 268,
   "metadata": {},
   "outputs": [
    {
     "data": {
      "text/plain": [
       "Radiology           102964\n",
       "Nursing              35043\n",
       "Physician            10284\n",
       "Nutrition             9233\n",
       "General               8043\n",
       "Rehab Services        5343\n",
       "Social Work           2541\n",
       "Case Management        942\n",
       "Pharmacy               102\n",
       "Consult                 98\n",
       "Respiratory             42\n",
       "Echo                    12\n",
       "Name: category, dtype: int64"
      ]
     },
     "execution_count": 268,
     "metadata": {},
     "output_type": "execute_result"
    }
   ],
   "source": [
    "all_notes[pd.isna(all_notes.clean_text)].category.value_counts()"
   ]
  },
  {
   "cell_type": "code",
   "execution_count": null,
   "metadata": {},
   "outputs": [],
   "source": [
    "row_idxr = (all_notes.category == 'Physician ') & (all_notes.description == 'Physician Resident Progress Note')\n",
    "all_notes.loc[row_idxr, 'clean_text'] = [sec[0] for sec in parse_phys_prog_notes_text(all_notes.loc[row_idxr, ['text']])]"
   ]
  },
  {
   "cell_type": "code",
   "execution_count": 90,
   "metadata": {},
   "outputs": [],
   "source": [
    "all_notes.drop('Unnamed: 0', axis=1, inplace=True)"
   ]
  },
  {
   "cell_type": "code",
   "execution_count": 91,
   "metadata": {},
   "outputs": [
    {
     "data": {
      "text/html": [
       "<div>\n",
       "<style scoped>\n",
       "    .dataframe tbody tr th:only-of-type {\n",
       "        vertical-align: middle;\n",
       "    }\n",
       "\n",
       "    .dataframe tbody tr th {\n",
       "        vertical-align: top;\n",
       "    }\n",
       "\n",
       "    .dataframe thead th {\n",
       "        text-align: right;\n",
       "    }\n",
       "</style>\n",
       "<table border=\"1\" class=\"dataframe\">\n",
       "  <thead>\n",
       "    <tr style=\"text-align: right;\">\n",
       "      <th></th>\n",
       "      <th>subject_id</th>\n",
       "      <th>hadm_id</th>\n",
       "      <th>chartdate</th>\n",
       "      <th>charttime</th>\n",
       "      <th>text</th>\n",
       "      <th>category</th>\n",
       "      <th>description</th>\n",
       "      <th>cat:desc</th>\n",
       "      <th>clean_text</th>\n",
       "    </tr>\n",
       "  </thead>\n",
       "  <tbody>\n",
       "    <tr>\n",
       "      <th>0</th>\n",
       "      <td>27121</td>\n",
       "      <td>167456.0</td>\n",
       "      <td>2126-12-01 00:00:00</td>\n",
       "      <td>2126-12-01 17:22:00</td>\n",
       "      <td>Pt. is a 60 year old with a history of large B...</td>\n",
       "      <td>Nursing</td>\n",
       "      <td>Nursing Progress Note</td>\n",
       "      <td>Nursing:Nursing Progress Note</td>\n",
       "      <td>Pt had been hemodynamically stable but around ...</td>\n",
       "    </tr>\n",
       "    <tr>\n",
       "      <th>1</th>\n",
       "      <td>6850</td>\n",
       "      <td>167393.0</td>\n",
       "      <td>2165-12-08 00:00:00</td>\n",
       "      <td>2165-12-08 17:12:00</td>\n",
       "      <td>Ms. [**Known lastname 7005**] is a 36 y/o woma...</td>\n",
       "      <td>Nursing</td>\n",
       "      <td>Nursing Progress Note</td>\n",
       "      <td>Nursing:Nursing Progress Note</td>\n",
       "      <td>Na 159 this morning\\n   \\n\\n   BUN 33 (42) and...</td>\n",
       "    </tr>\n",
       "    <tr>\n",
       "      <th>2</th>\n",
       "      <td>6850</td>\n",
       "      <td>167393.0</td>\n",
       "      <td>2165-12-08 00:00:00</td>\n",
       "      <td>2165-12-08 17:12:00</td>\n",
       "      <td>Ms. [**Known lastname 7005**] is a 36 y/o woma...</td>\n",
       "      <td>Nursing</td>\n",
       "      <td>Nursing Progress Note</td>\n",
       "      <td>Nursing:Nursing Progress Note</td>\n",
       "      <td>Na 159 this morning\\n   \\n\\n   BUN 33 (42) and...</td>\n",
       "    </tr>\n",
       "    <tr>\n",
       "      <th>3</th>\n",
       "      <td>6850</td>\n",
       "      <td>167393.0</td>\n",
       "      <td>2165-12-08 00:00:00</td>\n",
       "      <td>2165-12-08 17:12:00</td>\n",
       "      <td>Ms. [**Known lastname 7005**] is a 36 y/o woma...</td>\n",
       "      <td>Nursing</td>\n",
       "      <td>Nursing Progress Note</td>\n",
       "      <td>Nursing:Nursing Progress Note</td>\n",
       "      <td>Na 159 this morning\\n   \\n\\n   BUN 33 (42) and...</td>\n",
       "    </tr>\n",
       "    <tr>\n",
       "      <th>4</th>\n",
       "      <td>27427</td>\n",
       "      <td>175448.0</td>\n",
       "      <td>2150-11-30 00:00:00</td>\n",
       "      <td>2150-11-30 10:58:00</td>\n",
       "      <td>Planned Discharge Date: [**2150-11-30**]\\n   I...</td>\n",
       "      <td>Case Management</td>\n",
       "      <td>Case Management Continued Stay Review</td>\n",
       "      <td>Case Management :Case Management Continued Sta...</td>\n",
       "      <td>NaN</td>\n",
       "    </tr>\n",
       "  </tbody>\n",
       "</table>\n",
       "</div>"
      ],
      "text/plain": [
       "   subject_id   hadm_id            chartdate            charttime  \\\n",
       "0       27121  167456.0  2126-12-01 00:00:00  2126-12-01 17:22:00   \n",
       "1        6850  167393.0  2165-12-08 00:00:00  2165-12-08 17:12:00   \n",
       "2        6850  167393.0  2165-12-08 00:00:00  2165-12-08 17:12:00   \n",
       "3        6850  167393.0  2165-12-08 00:00:00  2165-12-08 17:12:00   \n",
       "4       27427  175448.0  2150-11-30 00:00:00  2150-11-30 10:58:00   \n",
       "\n",
       "                                                text          category  \\\n",
       "0  Pt. is a 60 year old with a history of large B...           Nursing   \n",
       "1  Ms. [**Known lastname 7005**] is a 36 y/o woma...           Nursing   \n",
       "2  Ms. [**Known lastname 7005**] is a 36 y/o woma...           Nursing   \n",
       "3  Ms. [**Known lastname 7005**] is a 36 y/o woma...           Nursing   \n",
       "4  Planned Discharge Date: [**2150-11-30**]\\n   I...  Case Management    \n",
       "\n",
       "                             description  \\\n",
       "0                  Nursing Progress Note   \n",
       "1                  Nursing Progress Note   \n",
       "2                  Nursing Progress Note   \n",
       "3                  Nursing Progress Note   \n",
       "4  Case Management Continued Stay Review   \n",
       "\n",
       "                                            cat:desc  \\\n",
       "0                      Nursing:Nursing Progress Note   \n",
       "1                      Nursing:Nursing Progress Note   \n",
       "2                      Nursing:Nursing Progress Note   \n",
       "3                      Nursing:Nursing Progress Note   \n",
       "4  Case Management :Case Management Continued Sta...   \n",
       "\n",
       "                                          clean_text  \n",
       "0  Pt had been hemodynamically stable but around ...  \n",
       "1  Na 159 this morning\\n   \\n\\n   BUN 33 (42) and...  \n",
       "2  Na 159 this morning\\n   \\n\\n   BUN 33 (42) and...  \n",
       "3  Na 159 this morning\\n   \\n\\n   BUN 33 (42) and...  \n",
       "4                                                NaN  "
      ]
     },
     "execution_count": 91,
     "metadata": {},
     "output_type": "execute_result"
    }
   ],
   "source": [
    "all_notes.head(5)"
   ]
  },
  {
   "cell_type": "code",
   "execution_count": 267,
   "metadata": {},
   "outputs": [],
   "source": [
    "all_notes.to_csv('all_notes_partially_parsed.csv', index=False)"
   ]
  },
  {
   "cell_type": "code",
   "execution_count": null,
   "metadata": {},
   "outputs": [],
   "source": []
  },
  {
   "cell_type": "code",
   "execution_count": null,
   "metadata": {},
   "outputs": [],
   "source": []
  },
  {
   "cell_type": "code",
   "execution_count": null,
   "metadata": {},
   "outputs": [],
   "source": [
    "all_notes = pd.read_csv('all_notes_partially_parsed.csv')"
   ]
  },
  {
   "cell_type": "code",
   "execution_count": null,
   "metadata": {},
   "outputs": [],
   "source": [
    "[print(n) for n in dis_notes.sample(1).text]"
   ]
  },
  {
   "cell_type": "code",
   "execution_count": null,
   "metadata": {},
   "outputs": [],
   "source": [
    "print(all_notes[all_notes.hadm_id == 117390.0].iloc[0].text)"
   ]
  },
  {
   "cell_type": "code",
   "execution_count": 4,
   "metadata": {},
   "outputs": [
    {
     "data": {
      "text/plain": [
       "Radiology           102964\n",
       "Nursing              35043\n",
       "Physician            12638\n",
       "Nutrition             9233\n",
       "General               8043\n",
       "Rehab Services        5343\n",
       "Respiratory           3208\n",
       "Social Work           2541\n",
       "Case Management        942\n",
       "Pharmacy               102\n",
       "Consult                 98\n",
       "Echo                    12\n",
       "Name: category, dtype: int64"
      ]
     },
     "execution_count": 4,
     "metadata": {},
     "output_type": "execute_result"
    }
   ],
   "source": [
    "all_notes[pd.isna(all_notes.clean_text)].category.value_counts()"
   ]
  },
  {
   "cell_type": "code",
   "execution_count": 11,
   "metadata": {},
   "outputs": [
    {
     "data": {
      "text/plain": [
       "Index(['subject_id', 'hadm_id', 'chartdate', 'charttime', 'text', 'category',\n",
       "       'description', 'cat:desc', 'clean_text'],\n",
       "      dtype='object')"
      ]
     },
     "execution_count": 11,
     "metadata": {},
     "output_type": "execute_result"
    }
   ],
   "source": []
  },
  {
   "cell_type": "code",
   "execution_count": 7,
   "metadata": {},
   "outputs": [
    {
     "data": {
      "text/plain": [
       "Nursing/other    639820\n",
       "Radiology        253549\n",
       "Nursing          182093\n",
       "Physician        125233\n",
       "Echo              32250\n",
       "Respiratory       27997\n",
       "Name: category, dtype: int64"
      ]
     },
     "execution_count": 7,
     "metadata": {},
     "output_type": "execute_result"
    }
   ],
   "source": [
    "all_notes[~pd.isna(all_notes.clean_text)].category.value_counts()"
   ]
  },
  {
   "cell_type": "code",
   "execution_count": 123,
   "metadata": {},
   "outputs": [],
   "source": [
    "row_idxr = (all_notes.category == 'Physician ') & (all_notes.description == 'Intensivist Note')"
   ]
  },
  {
   "cell_type": "code",
   "execution_count": 124,
   "metadata": {},
   "outputs": [],
   "source": [
    "all_notes.loc[row_idxr, ['clean_text']] = [sec[0] for sec in parse_phys_intens_notes_text(all_notes.loc[row_idxr, ['text']])]"
   ]
  },
  {
   "cell_type": "code",
   "execution_count": 84,
   "metadata": {},
   "outputs": [],
   "source": [
    "row_idxr = (all_notes.category == 'Physician ') & (all_notes.description == 'Physician Attending Progress Note')"
   ]
  },
  {
   "cell_type": "code",
   "execution_count": 86,
   "metadata": {},
   "outputs": [
    {
     "name": "stderr",
     "output_type": "stream",
     "text": [
      "/Users/tom/phd/summariser/clinical_sum/mimic_summarisation_clean/mimic_radiology_clean.py:21: FutureWarning: elementwise comparison failed; returning scalar instead, but in the future will perform elementwise comparison\n",
      "  else:\n"
     ]
    }
   ],
   "source": [
    "all_notes.loc[row_idxr, ['clean_text']] = [sec[0] for sec in parse_phys_attend_notes_text(all_notes.loc[row_idxr, ['text']])]"
   ]
  },
  {
   "cell_type": "code",
   "execution_count": 116,
   "metadata": {},
   "outputs": [],
   "source": [
    "row_idxr = (all_notes.category == 'Physician ') & (all_notes.description == 'Physician Resident Admission Note')"
   ]
  },
  {
   "cell_type": "code",
   "execution_count": 117,
   "metadata": {},
   "outputs": [],
   "source": [
    "all_notes.loc[row_idxr, ['clean_text']] = [sec[0] for sec in parse_phys_res_attnd_adm_notes_text(all_notes.loc[row_idxr, ['text']])]"
   ]
  },
  {
   "cell_type": "code",
   "execution_count": 118,
   "metadata": {},
   "outputs": [],
   "source": [
    "row_idxr = (all_notes.category == 'Physician ') & (all_notes.description == 'ICU Note - CVI')"
   ]
  },
  {
   "cell_type": "code",
   "execution_count": 119,
   "metadata": {},
   "outputs": [
    {
     "name": "stderr",
     "output_type": "stream",
     "text": [
      "/Users/tom/phd/summariser/clinical_sum/mimic_summarisation_clean/mimic_radiology_clean.py:21: FutureWarning: elementwise comparison failed; returning scalar instead, but in the future will perform elementwise comparison\n",
      "  idxs = np.argwhere(np.array(section_names) == section_name).flatten()\n"
     ]
    }
   ],
   "source": [
    "all_notes.loc[row_idxr, ['clean_text']] = [sec[0] for sec in parse_phys_intens_notes_text(all_notes.loc[row_idxr, ['text']])]"
   ]
  },
  {
   "cell_type": "code",
   "execution_count": 120,
   "metadata": {},
   "outputs": [],
   "source": [
    "row_idxr = (all_notes.category == 'Physician ') & (all_notes.description == 'Physician Attending Admission Note - MICU')"
   ]
  },
  {
   "cell_type": "code",
   "execution_count": 121,
   "metadata": {},
   "outputs": [],
   "source": [
    "all_notes.loc[row_idxr, 'clean_text'] = [sec[0] for sec in parse_phys_res_attn_micu_notes_text(all_notes.loc[row_idxr, ['text']])]"
   ]
  },
  {
   "cell_type": "code",
   "execution_count": 126,
   "metadata": {},
   "outputs": [],
   "source": [
    "row_idxr = (all_notes.category == 'Physician ') & (all_notes.description == 'Physician Resident/Attending Progress Note - MICU')"
   ]
  },
  {
   "cell_type": "code",
   "execution_count": 134,
   "metadata": {},
   "outputs": [],
   "source": [
    "all_notes.loc[row_idxr, 'clean_text'] = [sec[0] for sec in parse_phys_res_attn_prog_notes_text(all_notes.loc[row_idxr, ['text']])]"
   ]
  },
  {
   "cell_type": "code",
   "execution_count": 158,
   "metadata": {},
   "outputs": [],
   "source": [
    "row_idxr = (all_notes.category == 'Physician ') & ((all_notes.description == 'Physician Surgical Admission Note') |  \n",
    "                                                   (all_notes.description == 'Physician Fellow / Attending Progress Note - MICU'))"
   ]
  },
  {
   "cell_type": "code",
   "execution_count": 163,
   "metadata": {},
   "outputs": [],
   "source": [
    "all_notes.loc[row_idxr, 'clean_text'] = [sec[0] for sec in parse_phys_surgical_adm_notes_text(all_notes.loc[row_idxr, ['text']])]"
   ]
  },
  {
   "cell_type": "code",
   "execution_count": 151,
   "metadata": {},
   "outputs": [],
   "source": [
    "row_idxr = (all_notes.category == 'Physician ') &  (all_notes.description == 'Physician Fellow / Attending Progress Note - MICU')"
   ]
  },
  {
   "cell_type": "code",
   "execution_count": 155,
   "metadata": {},
   "outputs": [],
   "source": [
    "# can use the same func\n",
    "all_notes.loc[row_idxr, 'clean_text'] = [sec[0] for sec in parse_phys_surgical_adm_notes_text(all_notes.loc[row_idxr, ['text']])]"
   ]
  },
  {
   "cell_type": "code",
   "execution_count": 219,
   "metadata": {},
   "outputs": [],
   "source": [
    "row_idxr = (all_notes.category == 'Respiratory ') & ((all_notes.description == 'Respiratory Care Shift Note') | \n",
    "                                                     (all_notes.description == 'Generic Note'))"
   ]
  },
  {
   "cell_type": "code",
   "execution_count": 220,
   "metadata": {},
   "outputs": [
    {
     "name": "stderr",
     "output_type": "stream",
     "text": [
      "/Users/tom/phd/summariser/clinical_sum/mimic_summarisation_clean/mimic_radiology_clean.py:20: FutureWarning: elementwise comparison failed; returning scalar instead, but in the future will perform elementwise comparison\n",
      "  elif selected_sec_idx != 0:\n"
     ]
    }
   ],
   "source": [
    "all_notes.loc[row_idxr, 'clean_text'] = [sec[0] for sec in parse_respiratory_care_shift_note(all_notes.loc[row_idxr, ['text']])]"
   ]
  },
  {
   "cell_type": "code",
   "execution_count": null,
   "metadata": {},
   "outputs": [],
   "source": []
  },
  {
   "cell_type": "code",
   "execution_count": null,
   "metadata": {},
   "outputs": [],
   "source": [
    "# processed 88% of notes into the assessment and plan section, impression, 'progress' section (Nursing)"
   ]
  },
  {
   "cell_type": "code",
   "execution_count": 9,
   "metadata": {},
   "outputs": [
    {
     "data": {
      "text/plain": [
       "87.49803103026905"
      ]
     },
     "execution_count": 9,
     "metadata": {},
     "output_type": "execute_result"
    }
   ],
   "source": [
    "all_notes[~pd.isna(all_notes.clean_text)].shape[0] / all_notes.shape[0] * 100"
   ]
  },
  {
   "cell_type": "code",
   "execution_count": 10,
   "metadata": {},
   "outputs": [
    {
     "data": {
      "text/plain": [
       "(48142,)"
      ]
     },
     "execution_count": 10,
     "metadata": {},
     "output_type": "execute_result"
    }
   ],
   "source": [
    "all_notes.hadm_id.unique()"
   ]
  },
  {
   "cell_type": "code",
   "execution_count": 11,
   "metadata": {},
   "outputs": [],
   "source": [
    "clean_notes = all_notes[~pd.isna(all_notes.clean_text)]"
   ]
  },
  {
   "cell_type": "code",
   "execution_count": 16,
   "metadata": {},
   "outputs": [],
   "source": [
    "count_to_doc_counts = pd.Series(Counter([g[1].shape[0] for g in all_notes.groupby('hadm_id')])).sort_index()"
   ]
  },
  {
   "cell_type": "code",
   "execution_count": null,
   "metadata": {},
   "outputs": [],
   "source": []
  },
  {
   "cell_type": "code",
   "execution_count": 270,
   "metadata": {},
   "outputs": [],
   "source": [
    "all_notes = pd.read_csv('all_notes_partially_parsed.csv')"
   ]
  },
  {
   "cell_type": "code",
   "execution_count": 271,
   "metadata": {},
   "outputs": [],
   "source": [
    "hadms_with_mult_summaries = dis_notes.hadm_id.value_counts()[dis_notes.hadm_id.value_counts() > 1].index.tolist()"
   ]
  },
  {
   "cell_type": "code",
   "execution_count": 275,
   "metadata": {},
   "outputs": [],
   "source": [
    "dis_notes = dis_notes[~dis_notes.hadm_id.isin(hadms_with_mult_summaries)]"
   ]
  },
  {
   "cell_type": "code",
   "execution_count": null,
   "metadata": {},
   "outputs": [],
   "source": [
    "dis_notes.hos_course_text_subsection"
   ]
  },
  {
   "cell_type": "code",
   "execution_count": 280,
   "metadata": {},
   "outputs": [],
   "source": [
    "hadms_to_course = {r.hadm_id: r.hos_course_text_subsection for r in dis_notes.itertuples()}"
   ]
  },
  {
   "cell_type": "code",
   "execution_count": 283,
   "metadata": {},
   "outputs": [],
   "source": [
    "all_notes = all_notes.sort_values(['hadm_id', 'chartdate', 'charttime'])"
   ]
  },
  {
   "cell_type": "code",
   "execution_count": 288,
   "metadata": {},
   "outputs": [],
   "source": [
    "clean_notes = all_notes[~pd.isna(all_notes.clean_text)]"
   ]
  },
  {
   "cell_type": "code",
   "execution_count": 289,
   "metadata": {},
   "outputs": [],
   "source": [
    "clean_notes = clean_notes.sort_values(['hadm_id', 'chartdate', 'charttime'])"
   ]
  },
  {
   "cell_type": "code",
   "execution_count": null,
   "metadata": {},
   "outputs": [],
   "source": [
    "# maybe ignore these, although probably should probably remove the entire sentence?\n",
    "# clean_notes.clean_text.str.replace('\\[\\*\\*|\\*\\*\\]', ' ')"
   ]
  },
  {
   "cell_type": "code",
   "execution_count": null,
   "metadata": {},
   "outputs": [],
   "source": []
  },
  {
   "cell_type": "code",
   "execution_count": 291,
   "metadata": {},
   "outputs": [],
   "source": [
    "hadms_to_dis_course = [{'hadm_id': r.hadm_id, 'text': r.hos_course_text_subsection} for r in dis_notes.itertuples() if not pd.isna(r.hos_course_text_subsection)]"
   ]
  },
  {
   "cell_type": "code",
   "execution_count": null,
   "metadata": {},
   "outputs": [],
   "source": [
    "dis_notes.other_dis_notes_secs.iloc[0]"
   ]
  },
  {
   "cell_type": "code",
   "execution_count": 311,
   "metadata": {},
   "outputs": [],
   "source": [
    "secs, sec_headers = dis_notes[dis_notes.hadm_id == 166613].iloc[0].other_dis_notes_secs"
   ]
  },
  {
   "cell_type": "code",
   "execution_count": null,
   "metadata": {},
   "outputs": [],
   "source": [
    "clean_notes[clean_notes.hadm_id == 100003.0]"
   ]
  },
  {
   "cell_type": "code",
   "execution_count": 321,
   "metadata": {},
   "outputs": [],
   "source": [
    "hadms_to_hosp_course = {}\n",
    "for h in hadms_to_dis_course.keys():\n",
    "    h_notes = clean_notes[clean_notes.hadm_id == h]\n",
    "    secs, sec_headers = dis_notes[dis_notes.hadm_id == h].iloc[0].other_dis_notes_secs\n",
    "    dis_notes_extension = '\\n\\n'.join([f'{h}\\n{sec}' for sec, h in zip(secs, sec_headers)])\n",
    "    non_dis_notes = '\\n\\n'.join(h_notes.apply(lambda r: f'{r.category}:{r.description}\\n{r.clean_text}', axis=1))\n",
    "    hadms_to_hosp_course[h] = f'{non_dis_notes}\\n\\nDischarge summary\\n{dis_notes_extension}'"
   ]
  },
  {
   "cell_type": "code",
   "execution_count": null,
   "metadata": {},
   "outputs": [],
   "source": [
    "# hf datasets json format\n",
    "'hadm_id': for hadm_id, text in hadms_to_dis_course.items():\n",
    "    "
   ]
  },
  {
   "cell_type": "code",
   "execution_count": 328,
   "metadata": {},
   "outputs": [],
   "source": [
    "json.dump(hadms_to_dis_course, open('hadms_to_dis_course.json', 'w'))\n",
    "json.dump(hadms_to_hosp_course, open('hadms_to_hosp_course', 'w'))"
   ]
  },
  {
   "cell_type": "code",
   "execution_count": null,
   "metadata": {},
   "outputs": [],
   "source": []
  }
 ],
 "metadata": {
  "kernelspec": {
   "display_name": "Python [conda env:cattrainer]",
   "language": "python",
   "name": "conda-env-cattrainer-py"
  },
  "language_info": {
   "codemirror_mode": {
    "name": "ipython",
    "version": 3
   },
   "file_extension": ".py",
   "mimetype": "text/x-python",
   "name": "python",
   "nbconvert_exporter": "python",
   "pygments_lexer": "ipython3",
   "version": "3.8.1"
  }
 },
 "nbformat": 4,
 "nbformat_minor": 4
}
